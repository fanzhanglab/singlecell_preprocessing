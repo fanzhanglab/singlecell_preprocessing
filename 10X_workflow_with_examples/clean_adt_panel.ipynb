{
 "cells": [
  {
   "cell_type": "markdown",
   "metadata": {},
   "source": [
    "# ADT feature file generation\n",
    "## Qian Xiao"
   ]
  },
  {
   "cell_type": "code",
   "execution_count": 1,
   "metadata": {},
   "outputs": [],
   "source": [
    "#Import libraries\n",
    "\n",
    "import pandas as pd\n",
    "import numpy as np\n",
    "import xlrd\n",
    "import openpyxl"
   ]
  },
  {
   "cell_type": "code",
   "execution_count": 5,
   "metadata": {},
   "outputs": [],
   "source": [
    "work_order = 'KW9393'\n",
    "local_path = '/Users/curtism/Documents/2021/singlecellcore/qian_scripts/input/{}'.format(work_order)"
   ]
  },
  {
   "cell_type": "code",
   "execution_count": 6,
   "metadata": {},
   "outputs": [],
   "source": [
    "sheet_name = 'BRI-1412 Totalseq panel.xlsx'\n",
    "adt_panel_path = '{local_path}/{sheet_name}'.format(local_path = local_path,\n",
    "                                                    sheet_name = sheet_name)"
   ]
  },
  {
   "cell_type": "code",
   "execution_count": 7,
   "metadata": {},
   "outputs": [
    {
     "data": {
      "text/plain": [
       "'/Users/curtism/Documents/2021/singlecellcore/qian_scripts/input/KW9393/BRI-1412 Totalseq panel.xlsx'"
      ]
     },
     "execution_count": 7,
     "metadata": {},
     "output_type": "execute_result"
    }
   ],
   "source": [
    "adt_panel_path"
   ]
  },
  {
   "cell_type": "code",
   "execution_count": 8,
   "metadata": {},
   "outputs": [],
   "source": [
    "df_panel_all = pd.read_excel(adt_panel_path, engine='openpyxl', sheet_name = 'TotalSeq-B')"
   ]
  },
  {
   "cell_type": "code",
   "execution_count": 9,
   "metadata": {},
   "outputs": [
    {
     "data": {
      "text/html": [
       "<div>\n",
       "<style scoped>\n",
       "    .dataframe tbody tr th:only-of-type {\n",
       "        vertical-align: middle;\n",
       "    }\n",
       "\n",
       "    .dataframe tbody tr th {\n",
       "        vertical-align: top;\n",
       "    }\n",
       "\n",
       "    .dataframe thead th {\n",
       "        text-align: right;\n",
       "    }\n",
       "</style>\n",
       "<table border=\"1\" class=\"dataframe\">\n",
       "  <thead>\n",
       "    <tr style=\"text-align: right;\">\n",
       "      <th></th>\n",
       "      <th>Catalog</th>\n",
       "      <th>Barcode</th>\n",
       "      <th>Description</th>\n",
       "      <th>Unique Description</th>\n",
       "      <th>Clone</th>\n",
       "      <th>Reactivity</th>\n",
       "      <th>Sequence</th>\n",
       "      <th>Is it in your panel?</th>\n",
       "    </tr>\n",
       "  </thead>\n",
       "  <tbody>\n",
       "    <tr>\n",
       "      <th>0</th>\n",
       "      <td>100573</td>\n",
       "      <td>1</td>\n",
       "      <td>CD4</td>\n",
       "      <td>0001CD4</td>\n",
       "      <td>RM4-5</td>\n",
       "      <td>Mouse</td>\n",
       "      <td>AACAAGACCCTTGAG</td>\n",
       "      <td>NaN</td>\n",
       "    </tr>\n",
       "    <tr>\n",
       "      <th>1</th>\n",
       "      <td>100783</td>\n",
       "      <td>2</td>\n",
       "      <td>CD8a</td>\n",
       "      <td>0002CD8a</td>\n",
       "      <td>53-6.7</td>\n",
       "      <td>Mouse</td>\n",
       "      <td>TACCCGTAATAGCGT</td>\n",
       "      <td>NaN</td>\n",
       "    </tr>\n",
       "    <tr>\n",
       "      <th>2</th>\n",
       "      <td>119741</td>\n",
       "      <td>3</td>\n",
       "      <td>CD366</td>\n",
       "      <td>0003CD366</td>\n",
       "      <td>RMT3-23</td>\n",
       "      <td>Mouse</td>\n",
       "      <td>ATTGGCACTCAGATG</td>\n",
       "      <td>NaN</td>\n",
       "    </tr>\n",
       "    <tr>\n",
       "      <th>3</th>\n",
       "      <td>109125</td>\n",
       "      <td>4</td>\n",
       "      <td>CD279</td>\n",
       "      <td>0004CD279</td>\n",
       "      <td>RMP1-30</td>\n",
       "      <td>Mouse</td>\n",
       "      <td>GAAAGTCAAAGCACT</td>\n",
       "      <td>NaN</td>\n",
       "    </tr>\n",
       "    <tr>\n",
       "      <th>4</th>\n",
       "      <td>305241</td>\n",
       "      <td>5</td>\n",
       "      <td>CD80</td>\n",
       "      <td>0005CD80</td>\n",
       "      <td>2D10</td>\n",
       "      <td>Human, &lt;B&gt;Cross-Reactivity:&lt;/B&gt; Rhesus</td>\n",
       "      <td>ACGAATCAATCTGTG</td>\n",
       "      <td>NaN</td>\n",
       "    </tr>\n",
       "  </tbody>\n",
       "</table>\n",
       "</div>"
      ],
      "text/plain": [
       "   Catalog  Barcode Description Unique Description    Clone  \\\n",
       "0   100573        1         CD4            0001CD4    RM4-5   \n",
       "1   100783        2        CD8a           0002CD8a   53-6.7   \n",
       "2   119741        3       CD366          0003CD366  RMT3-23   \n",
       "3   109125        4       CD279          0004CD279  RMP1-30   \n",
       "4   305241        5        CD80           0005CD80     2D10   \n",
       "\n",
       "                               Reactivity         Sequence  \\\n",
       "0                                   Mouse  AACAAGACCCTTGAG   \n",
       "1                                   Mouse  TACCCGTAATAGCGT   \n",
       "2                                   Mouse  ATTGGCACTCAGATG   \n",
       "3                                   Mouse  GAAAGTCAAAGCACT   \n",
       "4  Human, <B>Cross-Reactivity:</B> Rhesus  ACGAATCAATCTGTG   \n",
       "\n",
       "  Is it in your panel?  \n",
       "0                  NaN  \n",
       "1                  NaN  \n",
       "2                  NaN  \n",
       "3                  NaN  \n",
       "4                  NaN  "
      ]
     },
     "execution_count": 9,
     "metadata": {},
     "output_type": "execute_result"
    }
   ],
   "source": [
    "df_panel_all.head()"
   ]
  },
  {
   "cell_type": "code",
   "execution_count": 10,
   "metadata": {},
   "outputs": [],
   "source": [
    "df_panel = df_panel_all"
   ]
  },
  {
   "cell_type": "code",
   "execution_count": 11,
   "metadata": {},
   "outputs": [],
   "source": [
    "###For the type of panel spread sheet in which the useres mark Y when they want to include the antibody\n",
    "df_panel = df_panel_all[df_panel_all['Is it in your panel?'] == 'Y']"
   ]
  },
  {
   "cell_type": "code",
   "execution_count": 29,
   "metadata": {},
   "outputs": [],
   "source": [
    "name = df_panel.Description.tolist()\n",
    "sequence = df_panel.Barcode.tolist()  # May be named sequence if Y spread sheet\n",
    "# sequence = df_panel.Sequence.tolist()\n",
    "clone = df_panel.Clone.tolist()"
   ]
  },
  {
   "cell_type": "code",
   "execution_count": 9,
   "metadata": {},
   "outputs": [],
   "source": [
    "###The panel could be named differently, so consider use these below when a differently named sheet is provided\n",
    "\n",
    "\n",
    "#name = df_panel['Gene Name'].tolist()\n",
    "#sequence = df_panel.Barcode.tolist()\n",
    "#clone = df_panel.Clone.tolist()"
   ]
  },
  {
   "cell_type": "code",
   "execution_count": 16,
   "metadata": {},
   "outputs": [],
   "source": [
    "#name = df_panel.Description.tolist()\n",
    "#sequence = df_panel.Sequence.tolist()\n",
    "#clone = df_panel.Clone.tolist()"
   ]
  },
  {
   "cell_type": "code",
   "execution_count": 13,
   "metadata": {},
   "outputs": [
    {
     "data": {
      "text/html": [
       "<div>\n",
       "<style scoped>\n",
       "    .dataframe tbody tr th:only-of-type {\n",
       "        vertical-align: middle;\n",
       "    }\n",
       "\n",
       "    .dataframe tbody tr th {\n",
       "        vertical-align: top;\n",
       "    }\n",
       "\n",
       "    .dataframe thead th {\n",
       "        text-align: right;\n",
       "    }\n",
       "</style>\n",
       "<table border=\"1\" class=\"dataframe\">\n",
       "  <thead>\n",
       "    <tr style=\"text-align: right;\">\n",
       "      <th></th>\n",
       "      <th>Catalog</th>\n",
       "      <th>Barcode</th>\n",
       "      <th>Description</th>\n",
       "      <th>Unique Description</th>\n",
       "      <th>Clone</th>\n",
       "      <th>Reactivity</th>\n",
       "      <th>Sequence</th>\n",
       "      <th>Is it in your panel?</th>\n",
       "    </tr>\n",
       "  </thead>\n",
       "  <tbody>\n",
       "    <tr>\n",
       "      <th>37</th>\n",
       "      <td>313247</td>\n",
       "      <td>61</td>\n",
       "      <td>CD117</td>\n",
       "      <td>0061CD117</td>\n",
       "      <td>104D2</td>\n",
       "      <td>Human, &lt;B&gt;Cross-Reactivity:&lt;/B&gt; Cynomolgus, Ca...</td>\n",
       "      <td>AGACTAATAGCTGAC</td>\n",
       "      <td>Y</td>\n",
       "    </tr>\n",
       "    <tr>\n",
       "      <th>62</th>\n",
       "      <td>400185</td>\n",
       "      <td>90</td>\n",
       "      <td>IgG1, k Isotype Ctrl</td>\n",
       "      <td>0090IgG1, k Isotype Ctrl</td>\n",
       "      <td>MOPC-21</td>\n",
       "      <td>NaN</td>\n",
       "      <td>GCCGGACGACATTAA</td>\n",
       "      <td>Y</td>\n",
       "    </tr>\n",
       "    <tr>\n",
       "      <th>63</th>\n",
       "      <td>400291</td>\n",
       "      <td>91</td>\n",
       "      <td>IgG2a, k isotype Ctrl</td>\n",
       "      <td>0091IgG2a, k isotype Ctrl</td>\n",
       "      <td>MOPC-173</td>\n",
       "      <td>NaN</td>\n",
       "      <td>CTCCTACCTAAACTG</td>\n",
       "      <td>Y</td>\n",
       "    </tr>\n",
       "    <tr>\n",
       "      <th>64</th>\n",
       "      <td>400379</td>\n",
       "      <td>92</td>\n",
       "      <td>IgG2b, k Isotype Ctrl</td>\n",
       "      <td>0092IgG2b, k Isotype Ctrl</td>\n",
       "      <td>MPC-11</td>\n",
       "      <td>NaN</td>\n",
       "      <td>ATATGTATCACGCGA</td>\n",
       "      <td>Y</td>\n",
       "    </tr>\n",
       "    <tr>\n",
       "      <th>102</th>\n",
       "      <td>350235</td>\n",
       "      <td>145</td>\n",
       "      <td>CD103</td>\n",
       "      <td>0145CD103</td>\n",
       "      <td>Ber-ACT8</td>\n",
       "      <td>Human, Cynomolgus</td>\n",
       "      <td>GACCTCATTGTGAAT</td>\n",
       "      <td>Y</td>\n",
       "    </tr>\n",
       "  </tbody>\n",
       "</table>\n",
       "</div>"
      ],
      "text/plain": [
       "     Catalog  Barcode            Description         Unique Description  \\\n",
       "37    313247       61                  CD117                  0061CD117   \n",
       "62    400185       90   IgG1, k Isotype Ctrl   0090IgG1, k Isotype Ctrl   \n",
       "63    400291       91  IgG2a, k isotype Ctrl  0091IgG2a, k isotype Ctrl   \n",
       "64    400379       92  IgG2b, k Isotype Ctrl  0092IgG2b, k Isotype Ctrl   \n",
       "102   350235      145                  CD103                  0145CD103   \n",
       "\n",
       "        Clone                                         Reactivity  \\\n",
       "37      104D2  Human, <B>Cross-Reactivity:</B> Cynomolgus, Ca...   \n",
       "62    MOPC-21                                                NaN   \n",
       "63   MOPC-173                                                NaN   \n",
       "64     MPC-11                                                NaN   \n",
       "102  Ber-ACT8                                  Human, Cynomolgus   \n",
       "\n",
       "            Sequence Is it in your panel?  \n",
       "37   AGACTAATAGCTGAC                    Y  \n",
       "62   GCCGGACGACATTAA                    Y  \n",
       "63   CTCCTACCTAAACTG                    Y  \n",
       "64   ATATGTATCACGCGA                    Y  \n",
       "102  GACCTCATTGTGAAT                    Y  "
      ]
     },
     "execution_count": 13,
     "metadata": {},
     "output_type": "execute_result"
    }
   ],
   "source": [
    "df_panel.head()"
   ]
  },
  {
   "cell_type": "code",
   "execution_count": 14,
   "metadata": {},
   "outputs": [],
   "source": [
    "#This is for the case like the sample cite-seq panel, when there are additional description like '0209 anti-mouse' before the actual protein name,\n",
    "#So would need to get rid of those first\n",
    "inter_name = []\n",
    "for i in range(len(name)):\n",
    "    short = name[i].split(' ')[2:len(name[i].split(' '))]\n",
    "    short_str = ''.join(short)\n",
    "    inter_name.append(short_str)"
   ]
  },
  {
   "cell_type": "code",
   "execution_count": null,
   "metadata": {},
   "outputs": [],
   "source": [
    "##In case we don't need to generate the inter_name, just use inter_name = name to directly begin the special character removal process"
   ]
  },
  {
   "cell_type": "code",
   "execution_count": 15,
   "metadata": {},
   "outputs": [
    {
     "data": {
      "text/plain": [
       "['', 'IsotypeCtrl', 'isotypeCtrl', 'IsotypeCtrl']"
      ]
     },
     "execution_count": 15,
     "metadata": {},
     "output_type": "execute_result"
    }
   ],
   "source": [
    "inter_name[0:4]"
   ]
  },
  {
   "cell_type": "code",
   "execution_count": 18,
   "metadata": {},
   "outputs": [
    {
     "data": {
      "text/plain": [
       "['CD117',\n",
       " 'IgG1, k Isotype Ctrl',\n",
       " 'IgG2a, k isotype Ctrl',\n",
       " 'IgG2b, k Isotype Ctrl']"
      ]
     },
     "execution_count": 18,
     "metadata": {},
     "output_type": "execute_result"
    }
   ],
   "source": [
    "inter_name = name\n",
    "inter_name[0:4]"
   ]
  },
  {
   "cell_type": "code",
   "execution_count": 19,
   "metadata": {},
   "outputs": [],
   "source": [
    "#Then we need to remove the special characters that cellranger can't recognize\n",
    "new_name = []\n",
    "for i in inter_name:\n",
    "    #print(i)\n",
    "    i = i.replace(\"anti-human/mouse/rat\", \"\")\n",
    "    i = i.replace(\"anti-human/mouse\", \"\")\n",
    "    i = i.replace(\"anti-mouse/rat\", \"\")\n",
    "    i = i.replace(\"anti-mouse/human\", \"\")\n",
    "    #i = i.replace(\"Mouse \", \"\")\n",
    "    i = i.replace(\"anti-mouse\", \"\")\n",
    "    i = i.replace(\"anti-human\", \"\")\n",
    "    i = i.replace(\" \", \"\")\n",
    "    i = i.replace(\"'\", \"\")\n",
    "    i = i.replace(\"/\", \"_or_\")\n",
    "    i = i.replace(\"(\", \"_or_\")\n",
    "    i = i.replace(\")\", \"\")\n",
    "    i = i.replace(\",\", \"_\")\n",
    "    i = i.replace(\"α\", \"a\")\n",
    "    i = i.replace(\"β\", \"b\")\n",
    "    i = i.replace(\"κ\", \"k\")\n",
    "    i = i.replace(\"λ\", \"lambda\")\n",
    "    i = i.replace(\"δ\", \"delta\")\n",
    "    i = i.replace(\"γ\", \"gamma\")\n",
    "    i = i.replace(\"ε\", \"e\")  \n",
    "    i = i + \"_prot\"\n",
    "    new_name.append(i)\n",
    "    #print(i)"
   ]
  },
  {
   "cell_type": "code",
   "execution_count": 20,
   "metadata": {},
   "outputs": [
    {
     "data": {
      "text/plain": [
       "['CD117_prot',\n",
       " 'IgG1_kIsotypeCtrl_prot',\n",
       " 'IgG2a_kisotypeCtrl_prot',\n",
       " 'IgG2b_kIsotypeCtrl_prot']"
      ]
     },
     "execution_count": 20,
     "metadata": {},
     "output_type": "execute_result"
    }
   ],
   "source": [
    "#Here just showing 2 of the names, but always take a look at the full list to make sure the names look good.\n",
    "new_name[0:4]"
   ]
  },
  {
   "cell_type": "code",
   "execution_count": 21,
   "metadata": {
    "collapsed": true,
    "jupyter": {
     "outputs_hidden": true
    },
    "tags": []
   },
   "outputs": [
    {
     "data": {
      "text/plain": [
       "['CD117_prot',\n",
       " 'IgG1_kIsotypeCtrl_prot',\n",
       " 'IgG2a_kisotypeCtrl_prot',\n",
       " 'IgG2b_kIsotypeCtrl_prot',\n",
       " 'CD103_prot',\n",
       " 'Integrinb7_prot',\n",
       " 'IgG2a_kIsotypeCtrl_prot',\n",
       " 'FceRIa_prot',\n",
       " 'CD184_prot',\n",
       " 'CD71_prot',\n",
       " 'CD38_prot',\n",
       " 'CD49d_prot',\n",
       " 'CD133_prot',\n",
       " 'Biotin_prot']"
      ]
     },
     "execution_count": 21,
     "metadata": {},
     "output_type": "execute_result"
    }
   ],
   "source": [
    "new_name"
   ]
  },
  {
   "cell_type": "code",
   "execution_count": 22,
   "metadata": {},
   "outputs": [],
   "source": [
    "#Check if there are any duplicated names in there, if so, add clone name after it to avoid repeated description\n",
    "dup_name = []\n",
    "if len(new_name) == len(set(new_name)):\n",
    "    new_name = new_name\n",
    "else:\n",
    "    import collections\n",
    "    dup_name = [item for item, count in collections.Counter(new_name).items() if count > 1]\n",
    "    for i in range(len(new_name)):\n",
    "        if new_name[i] in dup_name:\n",
    "            new_name[i] = new_name[i] + '_' + clone[i]\n",
    "        "
   ]
  },
  {
   "cell_type": "code",
   "execution_count": 23,
   "metadata": {},
   "outputs": [
    {
     "data": {
      "text/plain": [
       "[]"
      ]
     },
     "execution_count": 23,
     "metadata": {},
     "output_type": "execute_result"
    }
   ],
   "source": [
    "dup_name"
   ]
  },
  {
   "cell_type": "code",
   "execution_count": 24,
   "metadata": {
    "collapsed": true,
    "jupyter": {
     "outputs_hidden": true
    },
    "tags": []
   },
   "outputs": [
    {
     "data": {
      "text/plain": [
       "['CD117_prot',\n",
       " 'IgG1_kIsotypeCtrl_prot',\n",
       " 'IgG2a_kisotypeCtrl_prot',\n",
       " 'IgG2b_kIsotypeCtrl_prot',\n",
       " 'CD103_prot',\n",
       " 'Integrinb7_prot',\n",
       " 'IgG2a_kIsotypeCtrl_prot',\n",
       " 'FceRIa_prot',\n",
       " 'CD184_prot',\n",
       " 'CD71_prot',\n",
       " 'CD38_prot',\n",
       " 'CD49d_prot',\n",
       " 'CD133_prot',\n",
       " 'Biotin_prot']"
      ]
     },
     "execution_count": 24,
     "metadata": {},
     "output_type": "execute_result"
    }
   ],
   "source": [
    "new_name"
   ]
  },
  {
   "cell_type": "code",
   "execution_count": 40,
   "metadata": {},
   "outputs": [],
   "source": [
    "##Run this cell if \n",
    "#Totalseq-A\n",
    "dict_features = {\n",
    "    'id' : new_name,\n",
    "    'name' : new_name,\n",
    "    'read' : 'R2',\n",
    "    'pattern' : '5P(BC)',\n",
    "    'sequence' : sequence,\n",
    "    'feature_type' : 'Antibody Capture'\n",
    "}"
   ]
  },
  {
   "cell_type": "code",
   "execution_count": 30,
   "metadata": {},
   "outputs": [],
   "source": [
    "##Run this cell if\n",
    "#Totalseq-B or C\n",
    "dict_features = {\n",
    "    'id' : new_name,\n",
    "    'name' : new_name,\n",
    "    'read' : 'R2',\n",
    "    'pattern' : '5PNNNNNNNNNN(BC)',\n",
    "    'sequence' : sequence,\n",
    "    'feature_type' : 'Antibody Capture'\n",
    "}"
   ]
  },
  {
   "cell_type": "code",
   "execution_count": 31,
   "metadata": {},
   "outputs": [],
   "source": [
    "df_features = pd.DataFrame(data = dict_features)"
   ]
  },
  {
   "cell_type": "code",
   "execution_count": 32,
   "metadata": {},
   "outputs": [
    {
     "data": {
      "text/html": [
       "<div>\n",
       "<style scoped>\n",
       "    .dataframe tbody tr th:only-of-type {\n",
       "        vertical-align: middle;\n",
       "    }\n",
       "\n",
       "    .dataframe tbody tr th {\n",
       "        vertical-align: top;\n",
       "    }\n",
       "\n",
       "    .dataframe thead th {\n",
       "        text-align: right;\n",
       "    }\n",
       "</style>\n",
       "<table border=\"1\" class=\"dataframe\">\n",
       "  <thead>\n",
       "    <tr style=\"text-align: right;\">\n",
       "      <th></th>\n",
       "      <th>id</th>\n",
       "      <th>name</th>\n",
       "      <th>read</th>\n",
       "      <th>pattern</th>\n",
       "      <th>sequence</th>\n",
       "      <th>feature_type</th>\n",
       "    </tr>\n",
       "  </thead>\n",
       "  <tbody>\n",
       "    <tr>\n",
       "      <th>0</th>\n",
       "      <td>CD117_prot</td>\n",
       "      <td>CD117_prot</td>\n",
       "      <td>R2</td>\n",
       "      <td>5PNNNNNNNNNN(BC)</td>\n",
       "      <td>AGACTAATAGCTGAC</td>\n",
       "      <td>Antibody Capture</td>\n",
       "    </tr>\n",
       "    <tr>\n",
       "      <th>1</th>\n",
       "      <td>IgG1_kIsotypeCtrl_prot</td>\n",
       "      <td>IgG1_kIsotypeCtrl_prot</td>\n",
       "      <td>R2</td>\n",
       "      <td>5PNNNNNNNNNN(BC)</td>\n",
       "      <td>GCCGGACGACATTAA</td>\n",
       "      <td>Antibody Capture</td>\n",
       "    </tr>\n",
       "    <tr>\n",
       "      <th>2</th>\n",
       "      <td>IgG2a_kisotypeCtrl_prot</td>\n",
       "      <td>IgG2a_kisotypeCtrl_prot</td>\n",
       "      <td>R2</td>\n",
       "      <td>5PNNNNNNNNNN(BC)</td>\n",
       "      <td>CTCCTACCTAAACTG</td>\n",
       "      <td>Antibody Capture</td>\n",
       "    </tr>\n",
       "    <tr>\n",
       "      <th>3</th>\n",
       "      <td>IgG2b_kIsotypeCtrl_prot</td>\n",
       "      <td>IgG2b_kIsotypeCtrl_prot</td>\n",
       "      <td>R2</td>\n",
       "      <td>5PNNNNNNNNNN(BC)</td>\n",
       "      <td>ATATGTATCACGCGA</td>\n",
       "      <td>Antibody Capture</td>\n",
       "    </tr>\n",
       "    <tr>\n",
       "      <th>4</th>\n",
       "      <td>CD103_prot</td>\n",
       "      <td>CD103_prot</td>\n",
       "      <td>R2</td>\n",
       "      <td>5PNNNNNNNNNN(BC)</td>\n",
       "      <td>GACCTCATTGTGAAT</td>\n",
       "      <td>Antibody Capture</td>\n",
       "    </tr>\n",
       "    <tr>\n",
       "      <th>5</th>\n",
       "      <td>Integrinb7_prot</td>\n",
       "      <td>Integrinb7_prot</td>\n",
       "      <td>R2</td>\n",
       "      <td>5PNNNNNNNNNN(BC)</td>\n",
       "      <td>TCCTTGGATGTACCG</td>\n",
       "      <td>Antibody Capture</td>\n",
       "    </tr>\n",
       "    <tr>\n",
       "      <th>6</th>\n",
       "      <td>IgG2a_kIsotypeCtrl_prot</td>\n",
       "      <td>IgG2a_kIsotypeCtrl_prot</td>\n",
       "      <td>R2</td>\n",
       "      <td>5PNNNNNNNNNN(BC)</td>\n",
       "      <td>AAGTCAGGTTCGTTT</td>\n",
       "      <td>Antibody Capture</td>\n",
       "    </tr>\n",
       "    <tr>\n",
       "      <th>7</th>\n",
       "      <td>FceRIa_prot</td>\n",
       "      <td>FceRIa_prot</td>\n",
       "      <td>R2</td>\n",
       "      <td>5PNNNNNNNNNN(BC)</td>\n",
       "      <td>CTCGTTTCCGTATCG</td>\n",
       "      <td>Antibody Capture</td>\n",
       "    </tr>\n",
       "    <tr>\n",
       "      <th>8</th>\n",
       "      <td>CD184_prot</td>\n",
       "      <td>CD184_prot</td>\n",
       "      <td>R2</td>\n",
       "      <td>5PNNNNNNNNNN(BC)</td>\n",
       "      <td>TCAGGTCCTTTCAAC</td>\n",
       "      <td>Antibody Capture</td>\n",
       "    </tr>\n",
       "    <tr>\n",
       "      <th>9</th>\n",
       "      <td>CD71_prot</td>\n",
       "      <td>CD71_prot</td>\n",
       "      <td>R2</td>\n",
       "      <td>5PNNNNNNNNNN(BC)</td>\n",
       "      <td>CCGTGTTCCTCATTA</td>\n",
       "      <td>Antibody Capture</td>\n",
       "    </tr>\n",
       "    <tr>\n",
       "      <th>10</th>\n",
       "      <td>CD38_prot</td>\n",
       "      <td>CD38_prot</td>\n",
       "      <td>R2</td>\n",
       "      <td>5PNNNNNNNNNN(BC)</td>\n",
       "      <td>CCTATTCCGATTCCG</td>\n",
       "      <td>Antibody Capture</td>\n",
       "    </tr>\n",
       "    <tr>\n",
       "      <th>11</th>\n",
       "      <td>CD49d_prot</td>\n",
       "      <td>CD49d_prot</td>\n",
       "      <td>R2</td>\n",
       "      <td>5PNNNNNNNNNN(BC)</td>\n",
       "      <td>CCATTCAACTTCCGG</td>\n",
       "      <td>Antibody Capture</td>\n",
       "    </tr>\n",
       "    <tr>\n",
       "      <th>12</th>\n",
       "      <td>CD133_prot</td>\n",
       "      <td>CD133_prot</td>\n",
       "      <td>R2</td>\n",
       "      <td>5PNNNNNNNNNN(BC)</td>\n",
       "      <td>GTAAGACGCCTATGC</td>\n",
       "      <td>Antibody Capture</td>\n",
       "    </tr>\n",
       "    <tr>\n",
       "      <th>13</th>\n",
       "      <td>Biotin_prot</td>\n",
       "      <td>Biotin_prot</td>\n",
       "      <td>R2</td>\n",
       "      <td>5PNNNNNNNNNN(BC)</td>\n",
       "      <td>GTCCGACTAATAGCT</td>\n",
       "      <td>Antibody Capture</td>\n",
       "    </tr>\n",
       "  </tbody>\n",
       "</table>\n",
       "</div>"
      ],
      "text/plain": [
       "                         id                     name read           pattern  \\\n",
       "0                CD117_prot               CD117_prot   R2  5PNNNNNNNNNN(BC)   \n",
       "1    IgG1_kIsotypeCtrl_prot   IgG1_kIsotypeCtrl_prot   R2  5PNNNNNNNNNN(BC)   \n",
       "2   IgG2a_kisotypeCtrl_prot  IgG2a_kisotypeCtrl_prot   R2  5PNNNNNNNNNN(BC)   \n",
       "3   IgG2b_kIsotypeCtrl_prot  IgG2b_kIsotypeCtrl_prot   R2  5PNNNNNNNNNN(BC)   \n",
       "4                CD103_prot               CD103_prot   R2  5PNNNNNNNNNN(BC)   \n",
       "5           Integrinb7_prot          Integrinb7_prot   R2  5PNNNNNNNNNN(BC)   \n",
       "6   IgG2a_kIsotypeCtrl_prot  IgG2a_kIsotypeCtrl_prot   R2  5PNNNNNNNNNN(BC)   \n",
       "7               FceRIa_prot              FceRIa_prot   R2  5PNNNNNNNNNN(BC)   \n",
       "8                CD184_prot               CD184_prot   R2  5PNNNNNNNNNN(BC)   \n",
       "9                 CD71_prot                CD71_prot   R2  5PNNNNNNNNNN(BC)   \n",
       "10                CD38_prot                CD38_prot   R2  5PNNNNNNNNNN(BC)   \n",
       "11               CD49d_prot               CD49d_prot   R2  5PNNNNNNNNNN(BC)   \n",
       "12               CD133_prot               CD133_prot   R2  5PNNNNNNNNNN(BC)   \n",
       "13              Biotin_prot              Biotin_prot   R2  5PNNNNNNNNNN(BC)   \n",
       "\n",
       "           sequence      feature_type  \n",
       "0   AGACTAATAGCTGAC  Antibody Capture  \n",
       "1   GCCGGACGACATTAA  Antibody Capture  \n",
       "2   CTCCTACCTAAACTG  Antibody Capture  \n",
       "3   ATATGTATCACGCGA  Antibody Capture  \n",
       "4   GACCTCATTGTGAAT  Antibody Capture  \n",
       "5   TCCTTGGATGTACCG  Antibody Capture  \n",
       "6   AAGTCAGGTTCGTTT  Antibody Capture  \n",
       "7   CTCGTTTCCGTATCG  Antibody Capture  \n",
       "8   TCAGGTCCTTTCAAC  Antibody Capture  \n",
       "9   CCGTGTTCCTCATTA  Antibody Capture  \n",
       "10  CCTATTCCGATTCCG  Antibody Capture  \n",
       "11  CCATTCAACTTCCGG  Antibody Capture  \n",
       "12  GTAAGACGCCTATGC  Antibody Capture  \n",
       "13  GTCCGACTAATAGCT  Antibody Capture  "
      ]
     },
     "execution_count": 32,
     "metadata": {},
     "output_type": "execute_result"
    }
   ],
   "source": [
    "df_features"
   ]
  },
  {
   "cell_type": "code",
   "execution_count": 33,
   "metadata": {},
   "outputs": [],
   "source": [
    "#Save it to .csv under the local path you specified, you may name it differently, but remember to change it accordingly in your count feature parameters\n",
    "df_features.to_csv('{}/features_ADT_BRI-1413.csv'.format(local_path), index = False)"
   ]
  },
  {
   "cell_type": "code",
   "execution_count": null,
   "metadata": {},
   "outputs": [],
   "source": []
  }
 ],
 "metadata": {
  "kernelspec": {
   "display_name": "Python 3",
   "language": "python",
   "name": "python3"
  },
  "language_info": {
   "codemirror_mode": {
    "name": "ipython",
    "version": 3
   },
   "file_extension": ".py",
   "mimetype": "text/x-python",
   "name": "python",
   "nbconvert_exporter": "python",
   "pygments_lexer": "ipython3",
   "version": "3.8.8"
  }
 },
 "nbformat": 4,
 "nbformat_minor": 4
}
