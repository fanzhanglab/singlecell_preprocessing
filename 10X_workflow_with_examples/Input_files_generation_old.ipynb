{
 "cells": [
  {
   "cell_type": "markdown",
   "metadata": {},
   "source": [
    "# Single Cell Core Input Files Generation"
   ]
  },
  {
   "cell_type": "markdown",
   "metadata": {},
   "source": [
    "Last updated October 27, 2021\n",
    "\n",
    "By Qian Xiao, Michelle Curtis"
   ]
  },
  {
   "cell_type": "code",
   "execution_count": 1,
   "metadata": {},
   "outputs": [],
   "source": [
    "#Import modules\n",
    "import pandas as pd\n",
    "import numpy as np"
   ]
  },
  {
   "cell_type": "markdown",
   "metadata": {},
   "source": [
    "# References"
   ]
  },
  {
   "cell_type": "code",
   "execution_count": 2,
   "metadata": {},
   "outputs": [],
   "source": [
    "ref_path = '/Users/curtism/Documents/2021/singlecellcore/qian_scripts' ###Change it to your own local path, where you want the references to be stored\n",
    "\n",
    "#Read the references\n",
    "ADT_HTO_index_ref= pd.read_csv('{}/ADT_HTO_primer_reference.csv'.format(ref_path))\n",
    "HTO_antibody_ref= pd.read_csv('{}/hashtag_antibodies_reference.csv'.format(ref_path))\n",
    "CMO_ref= pd.read_csv('{}/cell_multiplexing_reference.csv'.format(ref_path))"
   ]
  },
  {
   "cell_type": "code",
   "execution_count": 3,
   "metadata": {},
   "outputs": [],
   "source": [
    "flow_cell_id = \"HM2H5DSX2\"### can be found in the raw bcl folder, using the <grep -i *.cfg 'Flowcell'> command\n",
    "raw_folder_name = '211008_10X_KW9393_bcl'### change to the folder name containing raw bcl files"
   ]
  },
  {
   "cell_type": "code",
   "execution_count": 4,
   "metadata": {},
   "outputs": [],
   "source": [
    "work_order = 'KW9393'### the current work order\n",
    "local_path = '/Users/curtism/Documents/2021/singlecellcore/qian_scripts/input/{}'.format(work_order)### The path on your local PC, where the input files will be saved "
   ]
  },
  {
   "cell_type": "code",
   "execution_count": 5,
   "metadata": {},
   "outputs": [],
   "source": [
    "pipe_new = 'cellranger-6.1.1'   ###Cellranger version we use\n",
    "#pipe_old1 = 'cellranger-6.0.1' \n",
    "#pipe_old3 = 'cellranger-5.0.1'\n",
    "#pipe_old2 = 'cellranger-4.0.0'\n",
    "#pipe_old = 'cellranger-3.1.0'\n",
    "cellranger_version = pipe_new"
   ]
  },
  {
   "cell_type": "code",
   "execution_count": 6,
   "metadata": {},
   "outputs": [],
   "source": [
    "#Reset all indices to empty vectors\n",
    "gex_libs_index = []\n",
    "adt_libs_index = []\n",
    "hto_libs_index = []\n",
    "vdj_libs_index = []\n",
    "cmo_libs_index = []\n",
    "visium_libs_index = []\n",
    "nuc_libs_index  = []\n",
    "gex_only_lib_index = []"
   ]
  },
  {
   "cell_type": "markdown",
   "metadata": {},
   "source": [
    "Example csv input for `df_run_info`. May need to adjust the 0s and 1s and modify primer information. There should be no blanks for species or user.\n",
    "\n",
    "<img src=\"example_csv.png\" alt=\"title\"> \n"
   ]
  },
  {
   "cell_type": "code",
   "execution_count": 7,
   "metadata": {},
   "outputs": [],
   "source": [
    "#Read the spreadsheet with run info\n",
    "df_run_info = pd.read_csv('{local_path}/{work_order}.csv'.format(local_path = local_path,\n",
    "                                                                 work_order = work_order) )"
   ]
  },
  {
   "cell_type": "code",
   "execution_count": 144,
   "metadata": {},
   "outputs": [
    {
     "data": {
      "text/html": [
       "<div>\n",
       "<style scoped>\n",
       "    .dataframe tbody tr th:only-of-type {\n",
       "        vertical-align: middle;\n",
       "    }\n",
       "\n",
       "    .dataframe tbody tr th {\n",
       "        vertical-align: top;\n",
       "    }\n",
       "\n",
       "    .dataframe thead th {\n",
       "        text-align: right;\n",
       "    }\n",
       "</style>\n",
       "<table border=\"1\" class=\"dataframe\">\n",
       "  <thead>\n",
       "    <tr style=\"text-align: right;\">\n",
       "      <th></th>\n",
       "      <th>Library ID</th>\n",
       "      <th>Library Type</th>\n",
       "      <th>Sample ID</th>\n",
       "      <th>primer_set</th>\n",
       "      <th>Species</th>\n",
       "      <th>i7 Well</th>\n",
       "      <th>HTO</th>\n",
       "      <th>ADT</th>\n",
       "      <th>CMO</th>\n",
       "      <th>TCR/BCR</th>\n",
       "      <th>Category</th>\n",
       "      <th>Number</th>\n",
       "      <th>User</th>\n",
       "      <th>Nuclei</th>\n",
       "      <th>Sequencing�Configuration</th>\n",
       "      <th>FASTQ request</th>\n",
       "      <th>Mapping request</th>\n",
       "    </tr>\n",
       "  </thead>\n",
       "  <tbody>\n",
       "    <tr>\n",
       "      <th>0</th>\n",
       "      <td>BRI-1391</td>\n",
       "      <td>GEX</td>\n",
       "      <td>1</td>\n",
       "      <td>TT</td>\n",
       "      <td>human</td>\n",
       "      <td>D1</td>\n",
       "      <td>0</td>\n",
       "      <td>0</td>\n",
       "      <td>0</td>\n",
       "      <td>0</td>\n",
       "      <td>NaN</td>\n",
       "      <td>NaN</td>\n",
       "      <td>hfaust@bwh.harvard.edu</td>\n",
       "      <td>N</td>\n",
       "      <td>28+10+10+90</td>\n",
       "      <td>Y</td>\n",
       "      <td>GRCh38-3.0.0</td>\n",
       "    </tr>\n",
       "    <tr>\n",
       "      <th>1</th>\n",
       "      <td>BRI-1392</td>\n",
       "      <td>GEX</td>\n",
       "      <td>2</td>\n",
       "      <td>TT</td>\n",
       "      <td>human</td>\n",
       "      <td>D2</td>\n",
       "      <td>0</td>\n",
       "      <td>0</td>\n",
       "      <td>0</td>\n",
       "      <td>0</td>\n",
       "      <td>NaN</td>\n",
       "      <td>NaN</td>\n",
       "      <td>hfaust@bwh.harvard.edu</td>\n",
       "      <td>N</td>\n",
       "      <td>28+10+10+90</td>\n",
       "      <td>Y</td>\n",
       "      <td>GRCh38-3.0.0</td>\n",
       "    </tr>\n",
       "    <tr>\n",
       "      <th>2</th>\n",
       "      <td>BRI-1393</td>\n",
       "      <td>GEX</td>\n",
       "      <td>3</td>\n",
       "      <td>TT</td>\n",
       "      <td>human</td>\n",
       "      <td>D3</td>\n",
       "      <td>0</td>\n",
       "      <td>0</td>\n",
       "      <td>0</td>\n",
       "      <td>0</td>\n",
       "      <td>NaN</td>\n",
       "      <td>NaN</td>\n",
       "      <td>hfaust@bwh.harvard.edu</td>\n",
       "      <td>N</td>\n",
       "      <td>28+10+10+90</td>\n",
       "      <td>Y</td>\n",
       "      <td>GRCh38-3.0.0</td>\n",
       "    </tr>\n",
       "    <tr>\n",
       "      <th>3</th>\n",
       "      <td>BRI-1394</td>\n",
       "      <td>GEX</td>\n",
       "      <td>4</td>\n",
       "      <td>TT</td>\n",
       "      <td>human</td>\n",
       "      <td>D4</td>\n",
       "      <td>0</td>\n",
       "      <td>0</td>\n",
       "      <td>0</td>\n",
       "      <td>0</td>\n",
       "      <td>NaN</td>\n",
       "      <td>NaN</td>\n",
       "      <td>hfaust@bwh.harvard.edu</td>\n",
       "      <td>N</td>\n",
       "      <td>28+10+10+90</td>\n",
       "      <td>Y</td>\n",
       "      <td>GRCh38-3.0.0</td>\n",
       "    </tr>\n",
       "    <tr>\n",
       "      <th>4</th>\n",
       "      <td>BRI-1391-M</td>\n",
       "      <td>GEX</td>\n",
       "      <td>1-Epmotion</td>\n",
       "      <td>TT</td>\n",
       "      <td>human</td>\n",
       "      <td>A12</td>\n",
       "      <td>0</td>\n",
       "      <td>0</td>\n",
       "      <td>0</td>\n",
       "      <td>0</td>\n",
       "      <td>NaN</td>\n",
       "      <td>NaN</td>\n",
       "      <td>hfaust@bwh.harvard.edu</td>\n",
       "      <td>N</td>\n",
       "      <td>28+10+10+90</td>\n",
       "      <td>Y</td>\n",
       "      <td>GRCh38-3.0.0</td>\n",
       "    </tr>\n",
       "  </tbody>\n",
       "</table>\n",
       "</div>"
      ],
      "text/plain": [
       "   Library ID Library Type   Sample ID primer_set Species i7 Well  HTO  ADT  \\\n",
       "0    BRI-1391          GEX           1         TT   human      D1    0    0   \n",
       "1    BRI-1392          GEX           2         TT   human      D2    0    0   \n",
       "2    BRI-1393          GEX           3         TT   human      D3    0    0   \n",
       "3    BRI-1394          GEX           4         TT   human      D4    0    0   \n",
       "4  BRI-1391-M          GEX  1-Epmotion         TT   human     A12    0    0   \n",
       "\n",
       "   CMO  TCR/BCR Category Number                    User Nuclei  \\\n",
       "0    0        0      NaN    NaN  hfaust@bwh.harvard.edu      N   \n",
       "1    0        0      NaN    NaN  hfaust@bwh.harvard.edu      N   \n",
       "2    0        0      NaN    NaN  hfaust@bwh.harvard.edu      N   \n",
       "3    0        0      NaN    NaN  hfaust@bwh.harvard.edu      N   \n",
       "4    0        0      NaN    NaN  hfaust@bwh.harvard.edu      N   \n",
       "\n",
       "  Sequencing�Configuration FASTQ request Mapping request  \n",
       "0              28+10+10+90             Y    GRCh38-3.0.0  \n",
       "1              28+10+10+90             Y    GRCh38-3.0.0  \n",
       "2              28+10+10+90             Y    GRCh38-3.0.0  \n",
       "3              28+10+10+90             Y    GRCh38-3.0.0  \n",
       "4              28+10+10+90             Y    GRCh38-3.0.0  "
      ]
     },
     "execution_count": 144,
     "metadata": {},
     "output_type": "execute_result"
    }
   ],
   "source": [
    "df_run_info.head()"
   ]
  },
  {
   "cell_type": "code",
   "execution_count": 9,
   "metadata": {},
   "outputs": [
    {
     "data": {
      "text/html": [
       "<div>\n",
       "<style scoped>\n",
       "    .dataframe tbody tr th:only-of-type {\n",
       "        vertical-align: middle;\n",
       "    }\n",
       "\n",
       "    .dataframe tbody tr th {\n",
       "        vertical-align: top;\n",
       "    }\n",
       "\n",
       "    .dataframe thead th {\n",
       "        text-align: right;\n",
       "    }\n",
       "</style>\n",
       "<table border=\"1\" class=\"dataframe\">\n",
       "  <thead>\n",
       "    <tr style=\"text-align: right;\">\n",
       "      <th></th>\n",
       "      <th>Library ID</th>\n",
       "      <th>Library Type</th>\n",
       "      <th>Sample ID</th>\n",
       "      <th>primer_set</th>\n",
       "      <th>Species</th>\n",
       "      <th>i7 Well</th>\n",
       "      <th>HTO</th>\n",
       "      <th>ADT</th>\n",
       "      <th>CMO</th>\n",
       "      <th>TCR/BCR</th>\n",
       "      <th>Category</th>\n",
       "      <th>Number</th>\n",
       "      <th>User</th>\n",
       "      <th>Nuclei</th>\n",
       "      <th>Sequencing�Configuration</th>\n",
       "      <th>FASTQ request</th>\n",
       "      <th>Mapping request</th>\n",
       "    </tr>\n",
       "  </thead>\n",
       "  <tbody>\n",
       "    <tr>\n",
       "      <th>0</th>\n",
       "      <td>BRI-1391</td>\n",
       "      <td>GEX</td>\n",
       "      <td>1</td>\n",
       "      <td>TT</td>\n",
       "      <td>human</td>\n",
       "      <td>D1</td>\n",
       "      <td>0</td>\n",
       "      <td>0</td>\n",
       "      <td>0</td>\n",
       "      <td>0</td>\n",
       "      <td>NaN</td>\n",
       "      <td>NaN</td>\n",
       "      <td>hfaust@bwh.harvard.edu</td>\n",
       "      <td>N</td>\n",
       "      <td>28+10+10+90</td>\n",
       "      <td>Y</td>\n",
       "      <td>GRCh38-3.0.0</td>\n",
       "    </tr>\n",
       "    <tr>\n",
       "      <th>1</th>\n",
       "      <td>BRI-1392</td>\n",
       "      <td>GEX</td>\n",
       "      <td>2</td>\n",
       "      <td>TT</td>\n",
       "      <td>human</td>\n",
       "      <td>D2</td>\n",
       "      <td>0</td>\n",
       "      <td>0</td>\n",
       "      <td>0</td>\n",
       "      <td>0</td>\n",
       "      <td>NaN</td>\n",
       "      <td>NaN</td>\n",
       "      <td>hfaust@bwh.harvard.edu</td>\n",
       "      <td>N</td>\n",
       "      <td>28+10+10+90</td>\n",
       "      <td>Y</td>\n",
       "      <td>GRCh38-3.0.0</td>\n",
       "    </tr>\n",
       "    <tr>\n",
       "      <th>2</th>\n",
       "      <td>BRI-1393</td>\n",
       "      <td>GEX</td>\n",
       "      <td>3</td>\n",
       "      <td>TT</td>\n",
       "      <td>human</td>\n",
       "      <td>D3</td>\n",
       "      <td>0</td>\n",
       "      <td>0</td>\n",
       "      <td>0</td>\n",
       "      <td>0</td>\n",
       "      <td>NaN</td>\n",
       "      <td>NaN</td>\n",
       "      <td>hfaust@bwh.harvard.edu</td>\n",
       "      <td>N</td>\n",
       "      <td>28+10+10+90</td>\n",
       "      <td>Y</td>\n",
       "      <td>GRCh38-3.0.0</td>\n",
       "    </tr>\n",
       "    <tr>\n",
       "      <th>3</th>\n",
       "      <td>BRI-1394</td>\n",
       "      <td>GEX</td>\n",
       "      <td>4</td>\n",
       "      <td>TT</td>\n",
       "      <td>human</td>\n",
       "      <td>D4</td>\n",
       "      <td>0</td>\n",
       "      <td>0</td>\n",
       "      <td>0</td>\n",
       "      <td>0</td>\n",
       "      <td>NaN</td>\n",
       "      <td>NaN</td>\n",
       "      <td>hfaust@bwh.harvard.edu</td>\n",
       "      <td>N</td>\n",
       "      <td>28+10+10+90</td>\n",
       "      <td>Y</td>\n",
       "      <td>GRCh38-3.0.0</td>\n",
       "    </tr>\n",
       "    <tr>\n",
       "      <th>4</th>\n",
       "      <td>BRI-1391-M</td>\n",
       "      <td>GEX</td>\n",
       "      <td>1-Epmotion</td>\n",
       "      <td>TT</td>\n",
       "      <td>human</td>\n",
       "      <td>A12</td>\n",
       "      <td>0</td>\n",
       "      <td>0</td>\n",
       "      <td>0</td>\n",
       "      <td>0</td>\n",
       "      <td>NaN</td>\n",
       "      <td>NaN</td>\n",
       "      <td>NaN</td>\n",
       "      <td>N</td>\n",
       "      <td>28+10+10+90</td>\n",
       "      <td>Y</td>\n",
       "      <td>GRCh38-3.0.0</td>\n",
       "    </tr>\n",
       "  </tbody>\n",
       "</table>\n",
       "</div>"
      ],
      "text/plain": [
       "   Library ID Library Type   Sample ID primer_set Species i7 Well  HTO  ADT  \\\n",
       "0    BRI-1391          GEX           1         TT   human      D1    0    0   \n",
       "1    BRI-1392          GEX           2         TT   human      D2    0    0   \n",
       "2    BRI-1393          GEX           3         TT   human      D3    0    0   \n",
       "3    BRI-1394          GEX           4         TT   human      D4    0    0   \n",
       "4  BRI-1391-M          GEX  1-Epmotion         TT   human     A12    0    0   \n",
       "\n",
       "   CMO  TCR/BCR Category Number                    User Nuclei  \\\n",
       "0    0        0      NaN    NaN  hfaust@bwh.harvard.edu      N   \n",
       "1    0        0      NaN    NaN  hfaust@bwh.harvard.edu      N   \n",
       "2    0        0      NaN    NaN  hfaust@bwh.harvard.edu      N   \n",
       "3    0        0      NaN    NaN  hfaust@bwh.harvard.edu      N   \n",
       "4    0        0      NaN    NaN                     NaN      N   \n",
       "\n",
       "  Sequencing�Configuration FASTQ request Mapping request  \n",
       "0              28+10+10+90             Y    GRCh38-3.0.0  \n",
       "1              28+10+10+90             Y    GRCh38-3.0.0  \n",
       "2              28+10+10+90             Y    GRCh38-3.0.0  \n",
       "3              28+10+10+90             Y    GRCh38-3.0.0  \n",
       "4              28+10+10+90             Y    GRCh38-3.0.0  "
      ]
     },
     "execution_count": 9,
     "metadata": {},
     "output_type": "execute_result"
    }
   ],
   "source": [
    "#Actually only need the columns Library ID, Library Type, primer_set, Species, \n",
    "#i7 Well, HTO, ADT, CMO, TCR/BCR, Category, Number, User, slide, area to run the script\n",
    "\n",
    "#If specific Lane and Sequencing Config are provided, can edit the input files manually\n",
    "#Just too lazy to incorporate it into the function :/\n",
    "df_run_info.head()"
   ]
  },
  {
   "cell_type": "markdown",
   "metadata": {},
   "source": [
    "# Sample sheet generation"
   ]
  },
  {
   "cell_type": "markdown",
   "metadata": {},
   "source": [
    "This part is used to generate the sample sheet for running `cellranger mkfastq` command"
   ]
  },
  {
   "cell_type": "code",
   "execution_count": 8,
   "metadata": {},
   "outputs": [],
   "source": [
    "lib_ids = df_run_info['Library ID'].to_list() #e.g. BRI-100\n",
    "lib_type = df_run_info['Library Type'].to_list() #GEX, HTO, ADT, ADT/HTO, HTO/ADT, TCR, BCR, TCR/BCR, BCR/TCR, CMO, Visium, NUC\n",
    "lib_index = df_run_info['i7 Well'].to_list() #e.g. A5\n",
    "lib_set = df_run_info['primer_set'].to_list() # G(for SI-GA), N(for SI-NA), TT(for SI-TT), TN, NT, NN\n",
    "lib_species = df_run_info.Species \n",
    "lib_version = (df_run_info[\"Mapping request\"].str.split(\"-\",n=1,expand=True))[1].fillna(\"2020-A\")"
   ]
  },
  {
   "cell_type": "code",
   "execution_count": 10,
   "metadata": {
    "tags": []
   },
   "outputs": [
    {
     "data": {
      "text/plain": [
       "['BRI-1391', 'BRI-1392', 'BRI-1393', 'BRI-1394']"
      ]
     },
     "execution_count": 10,
     "metadata": {},
     "output_type": "execute_result"
    }
   ],
   "source": [
    "lib_ids[:4]"
   ]
  },
  {
   "cell_type": "code",
   "execution_count": 11,
   "metadata": {},
   "outputs": [
    {
     "name": "stdout",
     "output_type": "stream",
     "text": [
      "0\n",
      "1\n",
      "2\n",
      "3\n",
      "4\n",
      "5\n",
      "6\n",
      "7\n",
      "8\n",
      "9\n",
      "10\n",
      "11\n",
      "12\n",
      "13\n",
      "14\n",
      "15\n",
      "16\n",
      "17\n",
      "18\n",
      "19\n",
      "20\n",
      "21\n",
      "22\n",
      "23\n",
      "24\n",
      "25\n",
      "26\n",
      "27\n",
      "28\n",
      "29\n"
     ]
    }
   ],
   "source": [
    "#Generate rows for the final dataframe\n",
    "rows = []\n",
    "for i in range(len(lib_ids)):\n",
    "    print(i)\n",
    "    #print(i)\n",
    "    if (lib_set[i] == 'G') or (lib_set[i] == 'N') :\n",
    "        rows.append(['*', \n",
    "                     lib_ids[i], \n",
    "                     'SI-{lib_set}A-{lib_index}'.format(\n",
    "                         lib_set = lib_set[i],\n",
    "                         lib_index = lib_index[i]\n",
    "                     ) ])\n",
    "        \n",
    "    elif (lib_set[i] == 'TT') or (lib_set[i] == 'TN') or (lib_set[i] == 'NN') or (lib_set[i] == 'NT'):\n",
    "        rows.append(['*', \n",
    "                     lib_ids[i], \n",
    "                     'SI-{lib_set}-{lib_index}'.format(\n",
    "                         lib_set = lib_set[i],\n",
    "                         lib_index = lib_index[i]\n",
    "                     ) ])\n",
    "    else:\n",
    "        #print(ADT_HTO_index_ref.index[ADT_HTO_index_ref.primer_name == lib_index[i]].values)\n",
    "        primer = ADT_HTO_index_ref.sequence[ int(ADT_HTO_index_ref.index[ADT_HTO_index_ref.primer_name == lib_index[i]].values) ] \n",
    "        rows.append(['*', \n",
    "                     lib_ids[i], \n",
    "                     primer ])"
   ]
  },
  {
   "cell_type": "code",
   "execution_count": null,
   "metadata": {},
   "outputs": [],
   "source": []
  },
  {
   "cell_type": "code",
   "execution_count": 14,
   "metadata": {},
   "outputs": [
    {
     "name": "stdout",
     "output_type": "stream",
     "text": [
      "['*', 'BRI-1391', 'SI-TT-D1']\n"
     ]
    }
   ],
   "source": [
    "print(rows[0])"
   ]
  },
  {
   "cell_type": "code",
   "execution_count": 15,
   "metadata": {},
   "outputs": [
    {
     "data": {
      "text/plain": [
       "[['*', 'BRI-1391', 'SI-TT-D1'],\n",
       " ['*', 'BRI-1392', 'SI-TT-D2'],\n",
       " ['*', 'BRI-1393', 'SI-TT-D3'],\n",
       " ['*', 'BRI-1394', 'SI-TT-D4'],\n",
       " ['*', 'BRI-1391-M', 'SI-TT-A12'],\n",
       " ['*', 'BRI-1392-M', 'SI-TT-B12'],\n",
       " ['*', 'BRI-1393-M', 'SI-TT-C12'],\n",
       " ['*', 'BRI-1394-M', 'SI-TT-D12'],\n",
       " ['*', 'BRI-1395', 'SI-TT-D5'],\n",
       " ['*', 'BRI-1396', 'SI-TT-D6'],\n",
       " ['*', 'BRI-1397', 'SI-TT-D7'],\n",
       " ['*', 'BRI-1398', 'SI-TT-D8'],\n",
       " ['*', 'BRI-1399', 'SI-TT-E1'],\n",
       " ['*', 'BRI-1401', 'SI-TT-E2'],\n",
       " ['*', 'BRI-1403', 'SI-TT-E3'],\n",
       " ['*', 'BRI-1405', 'SI-TT-E4'],\n",
       " ['*', 'BRI-1407', 'SI-TT-E5'],\n",
       " ['*', 'BRI-1409', 'SI-TT-E6'],\n",
       " ['*', 'BRI-1400', 'TGTCAGTC'],\n",
       " ['*', 'BRI-1402', 'TTTCCGCT'],\n",
       " ['*', 'BRI-1404', 'AATGAGCG'],\n",
       " ['*', 'BRI-1406', 'GGAATCTC'],\n",
       " ['*', 'BRI-1408', 'TTCTGAAT'],\n",
       " ['*', 'BRI-1410', 'ACGAATTC'],\n",
       " ['*', 'BRI-1411', 'SI-TT-E7'],\n",
       " ['*', 'BRI-1412', 'SI-TT-E8'],\n",
       " ['*', 'BRI-1413', 'SI-NT-B8'],\n",
       " ['*', 'BRI-1414', 'SI-TT-C10'],\n",
       " ['*', 'BRI-1415', 'SI-TN-A6'],\n",
       " ['*', 'BRI-1416', 'SI-TT-C9']]"
      ]
     },
     "execution_count": 15,
     "metadata": {},
     "output_type": "execute_result"
    }
   ],
   "source": [
    "rows"
   ]
  },
  {
   "cell_type": "code",
   "execution_count": 12,
   "metadata": {},
   "outputs": [],
   "source": [
    "df_sample_sheet = pd.DataFrame(rows, columns=[\"Lane\", \"Sample\", \"Index\"])"
   ]
  },
  {
   "cell_type": "code",
   "execution_count": 14,
   "metadata": {},
   "outputs": [
    {
     "data": {
      "text/html": [
       "<div>\n",
       "<style scoped>\n",
       "    .dataframe tbody tr th:only-of-type {\n",
       "        vertical-align: middle;\n",
       "    }\n",
       "\n",
       "    .dataframe tbody tr th {\n",
       "        vertical-align: top;\n",
       "    }\n",
       "\n",
       "    .dataframe thead th {\n",
       "        text-align: right;\n",
       "    }\n",
       "</style>\n",
       "<table border=\"1\" class=\"dataframe\">\n",
       "  <thead>\n",
       "    <tr style=\"text-align: right;\">\n",
       "      <th></th>\n",
       "      <th>Lane</th>\n",
       "      <th>Sample</th>\n",
       "      <th>Index</th>\n",
       "    </tr>\n",
       "  </thead>\n",
       "  <tbody>\n",
       "    <tr>\n",
       "      <th>0</th>\n",
       "      <td>*</td>\n",
       "      <td>BRI-1391</td>\n",
       "      <td>SI-TT-D1</td>\n",
       "    </tr>\n",
       "    <tr>\n",
       "      <th>1</th>\n",
       "      <td>*</td>\n",
       "      <td>BRI-1392</td>\n",
       "      <td>SI-TT-D2</td>\n",
       "    </tr>\n",
       "    <tr>\n",
       "      <th>2</th>\n",
       "      <td>*</td>\n",
       "      <td>BRI-1393</td>\n",
       "      <td>SI-TT-D3</td>\n",
       "    </tr>\n",
       "    <tr>\n",
       "      <th>3</th>\n",
       "      <td>*</td>\n",
       "      <td>BRI-1394</td>\n",
       "      <td>SI-TT-D4</td>\n",
       "    </tr>\n",
       "    <tr>\n",
       "      <th>4</th>\n",
       "      <td>*</td>\n",
       "      <td>BRI-1391-M</td>\n",
       "      <td>SI-TT-A12</td>\n",
       "    </tr>\n",
       "  </tbody>\n",
       "</table>\n",
       "</div>"
      ],
      "text/plain": [
       "  Lane      Sample      Index\n",
       "0    *    BRI-1391   SI-TT-D1\n",
       "1    *    BRI-1392   SI-TT-D2\n",
       "2    *    BRI-1393   SI-TT-D3\n",
       "3    *    BRI-1394   SI-TT-D4\n",
       "4    *  BRI-1391-M  SI-TT-A12"
      ]
     },
     "execution_count": 14,
     "metadata": {},
     "output_type": "execute_result"
    }
   ],
   "source": [
    "df_sample_sheet.head()"
   ]
  },
  {
   "cell_type": "code",
   "execution_count": 19,
   "metadata": {},
   "outputs": [
    {
     "data": {
      "text/plain": [
       "'Users/curtism/Documents/2021/singlecellcore/input/KW9393/sample_sheet.csv'"
      ]
     },
     "execution_count": 19,
     "metadata": {},
     "output_type": "execute_result"
    }
   ],
   "source": [
    "'Users/curtism/Documents/2021/singlecellcore/input/{}/sample_sheet.csv'.format(work_order)"
   ]
  },
  {
   "cell_type": "code",
   "execution_count": 20,
   "metadata": {},
   "outputs": [],
   "source": [
    "#Save the sample sheet to .csv file under the path you specified earlier\n",
    "df_sample_sheet.to_csv('/Users/curtism/Documents/2021/singlecellcore/qian_scripts/input/{}/sample_sheet.csv'.format(work_order), index = False)"
   ]
  },
  {
   "cell_type": "markdown",
   "metadata": {},
   "source": [
    "Check sample sheet and break up into multiple sheets, one for each sequencing configuration. "
   ]
  },
  {
   "cell_type": "markdown",
   "metadata": {},
   "source": [
    "# Feature and library files"
   ]
  },
  {
   "cell_type": "markdown",
   "metadata": {},
   "source": [
    "This part is for generating the *library.csv* and *features.csv* files for the HTO/ADT libs when running `cellranger count`.\n",
    "\n",
    "For ADT features, will use a separate script to clean the panel and generate *features.csv* file.\n",
    "\n",
    "Any hashtag/cite-seq antibody sequences that are not in the current reference are usually on Biolengend's official website. In case they are not, email Zhu and she will contact Biolegend team.\n",
    "\n"
   ]
  },
  {
   "cell_type": "markdown",
   "metadata": {},
   "source": [
    "### ADT"
   ]
  },
  {
   "cell_type": "markdown",
   "metadata": {},
   "source": [
    "#### ADT Library "
   ]
  },
  {
   "cell_type": "code",
   "execution_count": 36,
   "metadata": {},
   "outputs": [],
   "source": [
    "#Index of the ADT libs\n",
    "adt_libs_index = df_run_info.index[(df_run_info['Library Type'] == 'ADT') | (df_run_info['Library Type'] == 'ADT/HTO' ) | (df_run_info['Library Type'] == 'HTO/ADT' )].values.tolist()\n",
    "\n",
    "#Index of all the GEX libs\n",
    "gex_libs_index = df_run_info.index[df_run_info['Library Type'] == 'GEX'].values.tolist()\n",
    "\n",
    "#Index of the GEX libs with ADT libs ONLY\n",
    "adt_gex_libs_index = df_run_info.index[(df_run_info['Library Type'] == 'GEX') & df_run_info['ADT'] == 1].values.tolist()"
   ]
  },
  {
   "cell_type": "code",
   "execution_count": 14,
   "metadata": {},
   "outputs": [
    {
     "data": {
      "text/plain": [
       "[0, 1, 2, 3, 4, 5, 6, 7, 8, 9, 10, 11, 12, 13, 14, 15, 16, 17, 24, 25, 27]"
      ]
     },
     "execution_count": 14,
     "metadata": {},
     "output_type": "execute_result"
    }
   ],
   "source": [
    "gex_libs_index"
   ]
  },
  {
   "cell_type": "code",
   "execution_count": 15,
   "metadata": {},
   "outputs": [
    {
     "data": {
      "text/plain": [
       "[26, 28]"
      ]
     },
     "execution_count": 15,
     "metadata": {},
     "output_type": "execute_result"
    }
   ],
   "source": [
    "adt_libs_index"
   ]
  },
  {
   "cell_type": "code",
   "execution_count": 56,
   "metadata": {},
   "outputs": [
    {
     "data": {
      "text/plain": [
       "[25, 27]"
      ]
     },
     "execution_count": 56,
     "metadata": {},
     "output_type": "execute_result"
    }
   ],
   "source": [
    "adt_gex_libs_index"
   ]
  },
  {
   "cell_type": "code",
   "execution_count": 87,
   "metadata": {
    "tags": []
   },
   "outputs": [
    {
     "name": "stdout",
     "output_type": "stream",
     "text": [
      "26\n",
      "28\n"
     ]
    }
   ],
   "source": [
    "for i in adt_libs_index:\n",
    "    print(i)"
   ]
  },
  {
   "cell_type": "code",
   "execution_count": 89,
   "metadata": {},
   "outputs": [],
   "source": [
    "#Write the library file for ADT under the path you specified \n",
    "for i in adt_libs_index:\n",
    "    open('{local_path}/library_{ADT_sample}_ADT.csv'.format(local_path = local_path, ADT_sample = lib_ids[i]), 'w').write('fastqs,sample,library_type\\n')\n",
    "\n",
    "    open('{local_path}/library_{ADT_sample}_ADT.csv'.format(local_path = local_path, ADT_sample = lib_ids[i]), 'a+').write(\n",
    "        \"/data/srlab/bwh10x/{raw_folder}/FASTQS/outs/fastq_path/{flow_cell}/{lib_id}/,\".format(raw_folder = raw_folder_name, \n",
    "                                                                                      flow_cell = flow_cell_id,\n",
    "                                                                                      lib_id = lib_ids[ adt_gex_libs_index[adt_libs_index.index(i)] ]) + \n",
    "        \n",
    "        lib_ids[ adt_gex_libs_index[adt_libs_index.index(i)] ]+ #May edit this later\n",
    "        \n",
    "        \",\"+\n",
    "        \n",
    "        \"Gene Expression\\n\")\n",
    "\n",
    "    open('{local_path}/library_{ADT_sample}_ADT.csv'.format(local_path = local_path, ADT_sample = lib_ids[i]), 'a+').write(\n",
    "        \"/data/srlab/bwh10x/{raw_folder}/FASTQS/outs/fastq_path/{flow_cell}/{lib_id}/,\".format(raw_folder = raw_folder_name,\n",
    "                                                                                              flow_cell = flow_cell_id,\n",
    "                                                                                              lib_id = lib_ids[i]) +  \n",
    "        lib_ids[i]+\n",
    "        \n",
    "        \",\"+\n",
    "        \n",
    "        \"Antibody Capture\")"
   ]
  },
  {
   "cell_type": "code",
   "execution_count": null,
   "metadata": {},
   "outputs": [],
   "source": []
  },
  {
   "cell_type": "markdown",
   "metadata": {},
   "source": [
    "### HTO"
   ]
  },
  {
   "cell_type": "code",
   "execution_count": 37,
   "metadata": {},
   "outputs": [],
   "source": [
    "#Same principle as above\n",
    "hto_libs_index = df_run_info.index[(df_run_info['Library Type'] == 'HTO')|(df_run_info['Library Type'] == 'ADT/HTO')|(df_run_info['Library Type'] == 'HTO/ADT')].values.tolist()\n",
    "gex_libs_index = df_run_info.index[df_run_info['Library Type'] == 'GEX'].values.tolist()\n",
    "hto_gex_libs_index = df_run_info.index[(df_run_info['Library Type'] == 'GEX') & df_run_info['HTO'] == 1].values.tolist()"
   ]
  },
  {
   "cell_type": "code",
   "execution_count": 52,
   "metadata": {},
   "outputs": [
    {
     "data": {
      "text/plain": [
       "[18, 19, 20, 21, 22, 23, 26, 28]"
      ]
     },
     "execution_count": 52,
     "metadata": {},
     "output_type": "execute_result"
    }
   ],
   "source": [
    "hto_libs_index"
   ]
  },
  {
   "cell_type": "code",
   "execution_count": 53,
   "metadata": {},
   "outputs": [
    {
     "data": {
      "text/plain": [
       "[0, 1, 2, 3, 4, 5, 6, 7, 8, 9, 10, 11, 12, 13, 14, 15, 16, 17, 24, 25, 27]"
      ]
     },
     "execution_count": 53,
     "metadata": {},
     "output_type": "execute_result"
    }
   ],
   "source": [
    "gex_libs_index"
   ]
  },
  {
   "cell_type": "code",
   "execution_count": 54,
   "metadata": {},
   "outputs": [
    {
     "data": {
      "text/plain": [
       "[12, 13, 14, 15, 16, 17, 25, 27]"
      ]
     },
     "execution_count": 54,
     "metadata": {},
     "output_type": "execute_result"
    }
   ],
   "source": [
    "hto_gex_libs_index"
   ]
  },
  {
   "cell_type": "markdown",
   "metadata": {},
   "source": [
    "#### HTO Library"
   ]
  },
  {
   "cell_type": "code",
   "execution_count": 94,
   "metadata": {},
   "outputs": [],
   "source": [
    "#When ADT present for the same GEX\n",
    "for i in hto_libs_index:\n",
    "    open('{local_path}/library_{HTO_sample}_hashing.csv'.format(local_path = local_path, HTO_sample = lib_ids[i]), 'w').write('fastqs,sample,library_type\\n')\n",
    "\n",
    "    open('{local_path}/library_{HTO_sample}_hashing.csv'.format(local_path = local_path, HTO_sample = lib_ids[i]), 'a+').write(\n",
    "        \"/data/srlab/bwh10x/{raw_folder}/FASTQS/outs/fastq_path/{flow_cell}/{lib_id}/,\".format(raw_folder = raw_folder_name, \n",
    "                                                                                      flow_cell = flow_cell_id,\n",
    "                                                                                      lib_id = lib_ids[ hto_gex_libs_index[hto_libs_index.index(i)] ]) + \n",
    "        \n",
    "        lib_ids[ hto_gex_libs_index[hto_libs_index.index(i)] ]+ #May edit this later\n",
    "        \n",
    "        \",\"+\n",
    "        \n",
    "        \"Gene Expression\\n\")\n",
    "\n",
    "    open('{local_path}/library_{HTO_sample}_hashing.csv'.format(local_path = local_path, HTO_sample = lib_ids[i]), 'a+').write(\n",
    "        \"/data/srlab/bwh10x/{raw_folder}/FASTQS/outs/fastq_path/{flow_cell}/{lib_id}/,\".format(raw_folder = raw_folder_name,\n",
    "                                                                                              flow_cell = flow_cell_id,\n",
    "                                                                                              lib_id = lib_ids[i]) +  \n",
    "        lib_ids[i]+\n",
    "        \n",
    "        \",\"+\n",
    "        \n",
    "        \"Antibody Capture\")"
   ]
  },
  {
   "cell_type": "markdown",
   "metadata": {},
   "source": [
    "#### HTO Feature"
   ]
  },
  {
   "cell_type": "code",
   "execution_count": 25,
   "metadata": {},
   "outputs": [
    {
     "data": {
      "text/html": [
       "<div>\n",
       "<style scoped>\n",
       "    .dataframe tbody tr th:only-of-type {\n",
       "        vertical-align: middle;\n",
       "    }\n",
       "\n",
       "    .dataframe tbody tr th {\n",
       "        vertical-align: top;\n",
       "    }\n",
       "\n",
       "    .dataframe thead th {\n",
       "        text-align: right;\n",
       "    }\n",
       "</style>\n",
       "<table border=\"1\" class=\"dataframe\">\n",
       "  <thead>\n",
       "    <tr style=\"text-align: right;\">\n",
       "      <th></th>\n",
       "      <th>Number</th>\n",
       "      <th>Category</th>\n",
       "      <th>Sequence</th>\n",
       "      <th>Species</th>\n",
       "    </tr>\n",
       "  </thead>\n",
       "  <tbody>\n",
       "    <tr>\n",
       "      <th>0</th>\n",
       "      <td>Hashtag 1</td>\n",
       "      <td>C</td>\n",
       "      <td>GTCAACTCTTTAGCG</td>\n",
       "      <td>human</td>\n",
       "    </tr>\n",
       "    <tr>\n",
       "      <th>1</th>\n",
       "      <td>Hashtag 2</td>\n",
       "      <td>C</td>\n",
       "      <td>TGATGGCCTATTGGG</td>\n",
       "      <td>human</td>\n",
       "    </tr>\n",
       "    <tr>\n",
       "      <th>2</th>\n",
       "      <td>Hashtag 3</td>\n",
       "      <td>C</td>\n",
       "      <td>TTCCGCCTCTCTTTG</td>\n",
       "      <td>human</td>\n",
       "    </tr>\n",
       "    <tr>\n",
       "      <th>3</th>\n",
       "      <td>Hashtag 4</td>\n",
       "      <td>C</td>\n",
       "      <td>AGTAAGTTCAGCGTA</td>\n",
       "      <td>human</td>\n",
       "    </tr>\n",
       "    <tr>\n",
       "      <th>4</th>\n",
       "      <td>Hashtag 5</td>\n",
       "      <td>C</td>\n",
       "      <td>AAGTATCGTTTCGCA</td>\n",
       "      <td>human</td>\n",
       "    </tr>\n",
       "  </tbody>\n",
       "</table>\n",
       "</div>"
      ],
      "text/plain": [
       "      Number Category         Sequence Species\n",
       "0  Hashtag 1        C  GTCAACTCTTTAGCG   human\n",
       "1  Hashtag 2        C  TGATGGCCTATTGGG   human\n",
       "2  Hashtag 3        C  TTCCGCCTCTCTTTG   human\n",
       "3  Hashtag 4        C  AGTAAGTTCAGCGTA   human\n",
       "4  Hashtag 5        C  AAGTATCGTTTCGCA   human"
      ]
     },
     "execution_count": 25,
     "metadata": {},
     "output_type": "execute_result"
    }
   ],
   "source": [
    "#This is what HTO antibody reference looks like, you may add additional hashtag antibodies to it if new ones are used\n",
    "HTO_antibody_ref.head()"
   ]
  },
  {
   "cell_type": "code",
   "execution_count": 26,
   "metadata": {},
   "outputs": [
    {
     "data": {
      "text/plain": [
       "[18, 19, 20, 21, 22, 23, 26, 28]"
      ]
     },
     "execution_count": 26,
     "metadata": {},
     "output_type": "execute_result"
    }
   ],
   "source": [
    "hto_libs_index"
   ]
  },
  {
   "cell_type": "code",
   "execution_count": null,
   "metadata": {},
   "outputs": [],
   "source": []
  },
  {
   "cell_type": "code",
   "execution_count": 116,
   "metadata": {},
   "outputs": [],
   "source": [
    "#Generate and save the HTO feature files\n",
    "#Note that in your run info spreadsheet, the hashtag numbers should be a list of numbers separated by comma without space in between\n",
    "\n",
    "rows_features = []\n",
    "for i in hto_libs_index:\n",
    "    #print(i)\n",
    "    species = df_run_info.Species[i]\n",
    "    hash_number = df_run_info.Number[i].split(',')\n",
    "    \n",
    "    \n",
    "    open('{local_path}/features_{HTO_sample}.csv'.format(local_path = local_path, \n",
    "                                                         HTO_sample = lib_ids[i]), 'w').write('id,name,read,pattern,sequence,feature_type\\n')\n",
    "    \n",
    "    \n",
    "    for hashtag in hash_number:\n",
    "        hashtag_name = 'Hashtag'+hashtag\n",
    "        \n",
    "        hashtag = int(hashtag)\n",
    "        \n",
    "        hash_sequence_index = HTO_antibody_ref.index[(HTO_antibody_ref.Species == df_run_info.Species[i]) & \n",
    "                               (HTO_antibody_ref.Category == df_run_info.Category[i]) &\n",
    "                               (HTO_antibody_ref.Number == \"Hashtag {}\".format(hashtag))].values\n",
    "        \n",
    "        hash_sequence = HTO_antibody_ref.Sequence[hash_sequence_index[0]]#So that the index is an integer but\n",
    "        #Not a list\n",
    "        \n",
    "        hash_pattern = ''\n",
    "        if df_run_info.Category[i] == 'A':\n",
    "            hash_pattern = hash_pattern.join('5P(BC)')\n",
    "        else:\n",
    "            hash_pattern = hash_pattern.join('5PNNNNNNNNNN(BC)')\n",
    "        \n",
    "    \n",
    "        open('{local_path}/features_{HTO_sample}.csv'.format(local_path = local_path, \n",
    "                                                             HTO_sample = lib_ids[i]), 'a+').write(\n",
    "        \n",
    "            hashtag_name+','+\n",
    "            \n",
    "            hashtag_name+','+\n",
    "            \n",
    "            'R2,'+\n",
    "            hash_pattern+ ','+\n",
    "            \n",
    "            hash_sequence+','+\n",
    "            \n",
    "            \n",
    "            'Antibody Capture\\n')\n",
    "            \n",
    "    "
   ]
  },
  {
   "cell_type": "code",
   "execution_count": null,
   "metadata": {},
   "outputs": [],
   "source": []
  },
  {
   "cell_type": "code",
   "execution_count": null,
   "metadata": {},
   "outputs": [],
   "source": []
  },
  {
   "cell_type": "markdown",
   "metadata": {
    "tags": []
   },
   "source": [
    "## CellPlex"
   ]
  },
  {
   "cell_type": "markdown",
   "metadata": {
    "tags": []
   },
   "source": [
    "This part is for generating CMO lib input. Probably won't need this in a while."
   ]
  },
  {
   "cell_type": "code",
   "execution_count": 38,
   "metadata": {},
   "outputs": [],
   "source": [
    "cmo_libs_index = df_run_info.index[(df_run_info['Library Type'] == 'CMO')].values.tolist()\n",
    "gex_libs_index = df_run_info.index[df_run_info['Library Type'] == 'GEX'].values.tolist()\n",
    "cmo_gex_libs_index = df_run_info.index[(df_run_info['Library Type'] == 'GEX') & df_run_info['CMO'] == 1].values.tolist()"
   ]
  },
  {
   "cell_type": "code",
   "execution_count": 84,
   "metadata": {},
   "outputs": [
    {
     "data": {
      "text/html": [
       "<div>\n",
       "<style scoped>\n",
       "    .dataframe tbody tr th:only-of-type {\n",
       "        vertical-align: middle;\n",
       "    }\n",
       "\n",
       "    .dataframe tbody tr th {\n",
       "        vertical-align: top;\n",
       "    }\n",
       "\n",
       "    .dataframe thead th {\n",
       "        text-align: right;\n",
       "    }\n",
       "</style>\n",
       "<table border=\"1\" class=\"dataframe\">\n",
       "  <thead>\n",
       "    <tr style=\"text-align: right;\">\n",
       "      <th></th>\n",
       "      <th>Number</th>\n",
       "      <th>Sequence</th>\n",
       "    </tr>\n",
       "  </thead>\n",
       "  <tbody>\n",
       "    <tr>\n",
       "      <th>0</th>\n",
       "      <td>CMO301</td>\n",
       "      <td>ATGAGGAATTCCTGC</td>\n",
       "    </tr>\n",
       "    <tr>\n",
       "      <th>1</th>\n",
       "      <td>CMO302</td>\n",
       "      <td>CATGCCAATAGAGCG</td>\n",
       "    </tr>\n",
       "    <tr>\n",
       "      <th>2</th>\n",
       "      <td>CMO303</td>\n",
       "      <td>CCGTCGTCCAAGCAT</td>\n",
       "    </tr>\n",
       "    <tr>\n",
       "      <th>3</th>\n",
       "      <td>CMO304</td>\n",
       "      <td>AACGTTAATCACTCA</td>\n",
       "    </tr>\n",
       "    <tr>\n",
       "      <th>4</th>\n",
       "      <td>CMO305</td>\n",
       "      <td>CGCGATATGGTCGGA</td>\n",
       "    </tr>\n",
       "    <tr>\n",
       "      <th>5</th>\n",
       "      <td>CMO306</td>\n",
       "      <td>AAGATGAGGTCTGTG</td>\n",
       "    </tr>\n",
       "    <tr>\n",
       "      <th>6</th>\n",
       "      <td>CMO307</td>\n",
       "      <td>AAGCTCGTTGGAAGA</td>\n",
       "    </tr>\n",
       "    <tr>\n",
       "      <th>7</th>\n",
       "      <td>CMO308</td>\n",
       "      <td>CGGATTCCACATCAT</td>\n",
       "    </tr>\n",
       "    <tr>\n",
       "      <th>8</th>\n",
       "      <td>CMO309</td>\n",
       "      <td>GTTGATCTATAACAG</td>\n",
       "    </tr>\n",
       "    <tr>\n",
       "      <th>9</th>\n",
       "      <td>CMO310</td>\n",
       "      <td>GCAGGAGGTATCAAT</td>\n",
       "    </tr>\n",
       "    <tr>\n",
       "      <th>10</th>\n",
       "      <td>CMO311</td>\n",
       "      <td>GAATCGTGATTCTTC</td>\n",
       "    </tr>\n",
       "    <tr>\n",
       "      <th>11</th>\n",
       "      <td>CMO312</td>\n",
       "      <td>ACATGGTCAACGCTG</td>\n",
       "    </tr>\n",
       "  </tbody>\n",
       "</table>\n",
       "</div>"
      ],
      "text/plain": [
       "    Number         Sequence\n",
       "0   CMO301  ATGAGGAATTCCTGC\n",
       "1   CMO302  CATGCCAATAGAGCG\n",
       "2   CMO303  CCGTCGTCCAAGCAT\n",
       "3   CMO304  AACGTTAATCACTCA\n",
       "4   CMO305  CGCGATATGGTCGGA\n",
       "5   CMO306  AAGATGAGGTCTGTG\n",
       "6   CMO307  AAGCTCGTTGGAAGA\n",
       "7   CMO308  CGGATTCCACATCAT\n",
       "8   CMO309  GTTGATCTATAACAG\n",
       "9   CMO310  GCAGGAGGTATCAAT\n",
       "10  CMO311  GAATCGTGATTCTTC\n",
       "11  CMO312  ACATGGTCAACGCTG"
      ]
     },
     "execution_count": 84,
     "metadata": {},
     "output_type": "execute_result"
    }
   ],
   "source": [
    "CMO_ref"
   ]
  },
  {
   "cell_type": "markdown",
   "metadata": {},
   "source": [
    "### CMO config csv"
   ]
  },
  {
   "cell_type": "markdown",
   "metadata": {},
   "source": [
    "[gene-expression]\n",
    "reference,/path/to/transcriptome\n",
    "\n",
    "[libraries]\n",
    "fastq_id,fastqs,feature_types\n",
    "gex1,/path/to/fastqs,Gene Expression\n",
    "mux1,/path/to/fastqs,Multiplexing Capture\n",
    "\n",
    "[samples]\n",
    "sample_id,cmo_ids\n",
    "sample1,CMO301|CMO302\n",
    "sample2,CMO303|CMO304"
   ]
  },
  {
   "cell_type": "code",
   "execution_count": 85,
   "metadata": {},
   "outputs": [],
   "source": [
    "rows_features = []\n",
    "\n",
    "for i in cmo_libs_index:\n",
    "    \n",
    "    ###\n",
    "    species = df_run_info.Species[i]\n",
    "    \n",
    "    genome = ''\n",
    "    species_ver = ''\n",
    "    \n",
    "    if species == 'human':\n",
    "        species_ver = species_ver.join('GRCh38')\n",
    "        genome = genome.join('/data/srlab/external-data/10xgenomics/refdata-gex-{}-2020-A'.format(species_ver))\n",
    "        \n",
    "    elif species == 'mouse':\n",
    "        species_ver = species_ver.join('mm10')\n",
    "        genome = genome.join('/data/srlab/external-data/10xgenomics/refdata-gex-{}-2020-A'.format(species_ver))\n",
    "        \n",
    "    ###\n",
    "    hash_number = df_run_info.Number[i].split(',')\n",
    "    hashtags =[]\n",
    "    for hashtag in hash_number:\n",
    "        \n",
    "        hashtag = int(hashtag)\n",
    "        \n",
    "        hash_sequence_index = hashtag-1\n",
    "        \n",
    "        hash_sequence = CMO_ref.Sequence[hash_sequence_index]\n",
    "        hashtag_name = CMO_ref.Number[hash_sequence_index]\n",
    "        \n",
    "        hashtags.append(hashtag_name)\n",
    "    \n",
    "    \n",
    "    \n",
    "    open('{local_path}/CMO_{CMO_sample}.csv'.format(local_path = local_path, \n",
    "                                                         CMO_sample = lib_ids[i]), 'w').write('[gene-expression]\\n')\n",
    "    \n",
    "    open('{local_path}/CMO_{CMO_sample}.csv'.format(local_path = local_path, \n",
    "                                                             CMO_sample = lib_ids[i]), 'a+').write(\n",
    "        'reference,' + \n",
    "        genome+ '\\n' +\n",
    "        \n",
    "        '\\n'+\n",
    "        \n",
    "        ######\n",
    "        '[libraries]\\n'+\n",
    "        \n",
    "        'fastq_id,fastqs,feature_types\\n'+\n",
    "        \n",
    "        ##\n",
    "        \n",
    "        lib_ids[ cmo_gex_libs_index[cmo_libs_index.index(i)] ]+ #May edit this later\n",
    "        \n",
    "        \",\"+\n",
    "        \n",
    "        \"/data/srlab/bwh10x/{raw_folder}/FASTQS/outs/fastq_path/{flow_cell}/{lib_id}/,\".format(raw_folder = raw_folder_name, \n",
    "                                                                                      flow_cell = flow_cell_id,\n",
    "                                                                                      lib_id = lib_ids[ cmo_gex_libs_index[cmo_libs_index.index(i)] ]) + \n",
    "        \n",
    "        \"Gene Expression\\n\"+\n",
    "\n",
    "    \n",
    "        ##\n",
    "        lib_ids[i]+\n",
    "        \n",
    "        \",\"+\n",
    "        \n",
    "        \"/data/srlab/bwh10x/{raw_folder}/FASTQS/outs/fastq_path/{flow_cell}/{lib_id}/,\".format(raw_folder = raw_folder_name,\n",
    "                                                                                              flow_cell = flow_cell_id,\n",
    "                                                                                              lib_id = lib_ids[i]) +  \n",
    "        \n",
    "        \"Multiplexing Capture\\n\" +\n",
    "        \n",
    "        ######\n",
    "        \n",
    "        '\\n'+\n",
    "        \n",
    "        '[samples]\\n'+\n",
    "        \n",
    "        'sample_id,cmo_ids\\n'+\n",
    "        \n",
    "        lib_ids[i]+ ','+\n",
    "        \n",
    "        '|'.join(hashtags))\n",
    "        "
   ]
  },
  {
   "cell_type": "markdown",
   "metadata": {},
   "source": [
    "### CMO: Parameters for the -multi command "
   ]
  },
  {
   "cell_type": "code",
   "execution_count": 104,
   "metadata": {},
   "outputs": [],
   "source": [
    "rows_multi = []\n",
    "for i in cmo_libs_index:\n",
    "    \n",
    "    species = df_run_info.Species[i]\n",
    "    \n",
    "    species_ver = ''\n",
    "    \n",
    "    if species == 'human':\n",
    "        species_ver = species_ver.join('GRCh38')\n",
    "        \n",
    "    elif species == 'mouse':\n",
    "        species_ver = species_ver.join('mm10')\n",
    "        \n",
    "    path_to_config = '/data/srlab/bwh10x/{raw_folder_name}/CMO_{CMO_sample}.csv'.format(raw_folder_name = raw_folder_name,\n",
    "                                                                                        CMO_sample = lib_ids[i])\n",
    "    \n",
    "    rows_multi.append([raw_folder_name,\n",
    "                       cellranger_version,\n",
    "                       species_ver,\n",
    "                       '{CMO_sample}_CMO'.format(CMO_sample = lib_ids[ cmo_gex_libs_index[cmo_libs_index.index(i)]]), \n",
    "                       path_to_config])\n"
   ]
  },
  {
   "cell_type": "code",
   "execution_count": 103,
   "metadata": {},
   "outputs": [
    {
     "data": {
      "text/html": [
       "<div>\n",
       "<style scoped>\n",
       "    .dataframe tbody tr th:only-of-type {\n",
       "        vertical-align: middle;\n",
       "    }\n",
       "\n",
       "    .dataframe tbody tr th {\n",
       "        vertical-align: top;\n",
       "    }\n",
       "\n",
       "    .dataframe thead th {\n",
       "        text-align: right;\n",
       "    }\n",
       "</style>\n",
       "<table border=\"1\" class=\"dataframe\">\n",
       "  <thead>\n",
       "    <tr style=\"text-align: right;\">\n",
       "      <th></th>\n",
       "      <th>0</th>\n",
       "      <th>1</th>\n",
       "      <th>2</th>\n",
       "      <th>3</th>\n",
       "      <th>4</th>\n",
       "    </tr>\n",
       "  </thead>\n",
       "  <tbody>\n",
       "    <tr>\n",
       "      <th>0</th>\n",
       "      <td>210504_10X_KW8909_bcl</td>\n",
       "      <td>cellranger-6.0.1</td>\n",
       "      <td>GRCh38</td>\n",
       "      <td>BRI-1194_CMO.csv</td>\n",
       "      <td>/data/srlab/bwh10x/210504_10X_KW8909_bcl/CMO_B...</td>\n",
       "    </tr>\n",
       "    <tr>\n",
       "      <th>1</th>\n",
       "      <td>210504_10X_KW8909_bcl</td>\n",
       "      <td>cellranger-6.0.1</td>\n",
       "      <td>GRCh38</td>\n",
       "      <td>BRI-1197_CMO.csv</td>\n",
       "      <td>/data/srlab/bwh10x/210504_10X_KW8909_bcl/CMO_B...</td>\n",
       "    </tr>\n",
       "  </tbody>\n",
       "</table>\n",
       "</div>"
      ],
      "text/plain": [
       "                       0                 1       2                 3  \\\n",
       "0  210504_10X_KW8909_bcl  cellranger-6.0.1  GRCh38  BRI-1194_CMO.csv   \n",
       "1  210504_10X_KW8909_bcl  cellranger-6.0.1  GRCh38  BRI-1197_CMO.csv   \n",
       "\n",
       "                                                   4  \n",
       "0  /data/srlab/bwh10x/210504_10X_KW8909_bcl/CMO_B...  \n",
       "1  /data/srlab/bwh10x/210504_10X_KW8909_bcl/CMO_B...  "
      ]
     },
     "execution_count": 103,
     "metadata": {},
     "output_type": "execute_result"
    }
   ],
   "source": [
    "df_multi = pd.DataFrame(rows_multi)\n",
    "df_multi"
   ]
  },
  {
   "cell_type": "code",
   "execution_count": 173,
   "metadata": {
    "collapsed": true,
    "jupyter": {
     "outputs_hidden": true
    },
    "tags": []
   },
   "outputs": [
    {
     "ename": "NameError",
     "evalue": "name 'df_multi' is not defined",
     "output_type": "error",
     "traceback": [
      "\u001b[0;31m---------------------------------------------------------------------------\u001b[0m",
      "\u001b[0;31mNameError\u001b[0m                                 Traceback (most recent call last)",
      "\u001b[0;32m<ipython-input-173-9fc08292c46b>\u001b[0m in \u001b[0;36m<module>\u001b[0;34m\u001b[0m\n\u001b[0;32m----> 1\u001b[0;31m df_multi.to_csv('/Users/qxiao/Desktop/single_cell_core/{work_order}/lsf_params_multi_{work_order}'.format(\n\u001b[0m\u001b[1;32m      2\u001b[0m     work_order = work_order), \n\u001b[1;32m      3\u001b[0m                         \u001b[0msep\u001b[0m\u001b[0;34m=\u001b[0m\u001b[0;34m'\\t'\u001b[0m\u001b[0;34m,\u001b[0m\u001b[0;34m\u001b[0m\u001b[0;34m\u001b[0m\u001b[0m\n\u001b[1;32m      4\u001b[0m                         \u001b[0mindex\u001b[0m \u001b[0;34m=\u001b[0m \u001b[0;32mFalse\u001b[0m\u001b[0;34m,\u001b[0m\u001b[0;34m\u001b[0m\u001b[0;34m\u001b[0m\u001b[0m\n\u001b[1;32m      5\u001b[0m                         header = False)\n",
      "\u001b[0;31mNameError\u001b[0m: name 'df_multi' is not defined"
     ]
    }
   ],
   "source": [
    "df_multi.to_csv('/Users/qxiao/Desktop/single_cell_core/{work_order}/lsf_params_multi_{work_order}'.format(\n",
    "    work_order = work_order), \n",
    "                        sep='\\t', \n",
    "                        index = False,\n",
    "                        header = False)"
   ]
  },
  {
   "cell_type": "code",
   "execution_count": null,
   "metadata": {},
   "outputs": [],
   "source": []
  },
  {
   "cell_type": "code",
   "execution_count": null,
   "metadata": {},
   "outputs": [],
   "source": []
  },
  {
   "cell_type": "markdown",
   "metadata": {},
   "source": [
    "# Count and Count feature files"
   ]
  },
  {
   "cell_type": "markdown",
   "metadata": {},
   "source": [
    "This part is for generating parameter files that will be used when running `cellranger count`."
   ]
  },
  {
   "cell_type": "markdown",
   "metadata": {},
   "source": [
    "## Count(GEX only)"
   ]
  },
  {
   "cell_type": "code",
   "execution_count": 11,
   "metadata": {
    "tags": []
   },
   "outputs": [],
   "source": [
    "gex_only_lib_index = df_run_info[(df_run_info['Library Type'] == 'GEX') \n",
    "                                 & (df_run_info.HTO + df_run_info.ADT +df_run_info.CMO + df_run_info['TCR/BCR'] == 0)].index.values.tolist()"
   ]
  },
  {
   "cell_type": "code",
   "execution_count": 14,
   "metadata": {},
   "outputs": [
    {
     "data": {
      "text/plain": [
       "[0, 1, 2, 3, 4, 5, 6, 7, 8, 9, 10, 11, 24]"
      ]
     },
     "execution_count": 14,
     "metadata": {},
     "output_type": "execute_result"
    }
   ],
   "source": [
    "gex_only_lib_index"
   ]
  },
  {
   "cell_type": "code",
   "execution_count": 29,
   "metadata": {},
   "outputs": [],
   "source": [
    "#Note that in your run info spreadsheet, the species should be all in lower cases\n",
    "\n",
    "rows_count = []\n",
    "for i in gex_only_lib_index:\n",
    "    genome = ''\n",
    "    gex_species = ''\n",
    "    version = lib_version[i]\n",
    "    if lib_species[i] == 'human':\n",
    "        gex_species = gex_species.join('GRCh38')\n",
    "        \n",
    "        prepend='' # gex or cellranger reference\n",
    "        if version=='2020-A':\n",
    "            prepend = prepend.join('gex')\n",
    "        elif version=='3.0.0':\n",
    "            prepend = prepend.join('cellranger')\n",
    "            \n",
    "        genome = genome.join('/data/srlab/external-data/10xgenomics/refdata-{}-{}-{}'.format(prepend,gex_species,version))\n",
    "        \n",
    "    elif lib_species[i] == 'mouse':\n",
    "        gex_species = gex_species.join('mm10')\n",
    "        genome = genome.join('/data/srlab/external-data/10xgenomics/refdata-gex-{}-2020-A'.format(gex_species))\n",
    "    \n",
    "    elif lib_species[i] == 'zebrafish':\n",
    "        gex_species = gex_species.join('GRCz10')\n",
    "        genome = genome.join('/data/srlab/external-data/10xgenomics/Danio.rerio_genome')\n",
    "        \n",
    "    rows_count.append([raw_folder_name, \n",
    "                               lib_ids[i], \n",
    "                               genome,\n",
    "                               cellranger_version,\n",
    "                               gex_species])\n"
   ]
  },
  {
   "cell_type": "code",
   "execution_count": 30,
   "metadata": {
    "tags": []
   },
   "outputs": [
    {
     "data": {
      "text/html": [
       "<div>\n",
       "<style scoped>\n",
       "    .dataframe tbody tr th:only-of-type {\n",
       "        vertical-align: middle;\n",
       "    }\n",
       "\n",
       "    .dataframe tbody tr th {\n",
       "        vertical-align: top;\n",
       "    }\n",
       "\n",
       "    .dataframe thead th {\n",
       "        text-align: right;\n",
       "    }\n",
       "</style>\n",
       "<table border=\"1\" class=\"dataframe\">\n",
       "  <thead>\n",
       "    <tr style=\"text-align: right;\">\n",
       "      <th></th>\n",
       "      <th>0</th>\n",
       "      <th>1</th>\n",
       "      <th>2</th>\n",
       "      <th>3</th>\n",
       "      <th>4</th>\n",
       "    </tr>\n",
       "  </thead>\n",
       "  <tbody>\n",
       "    <tr>\n",
       "      <th>0</th>\n",
       "      <td>211008_10X_KW9393_bcl</td>\n",
       "      <td>BRI-1391</td>\n",
       "      <td>/data/srlab/external-data/10xgenomics/refdata-...</td>\n",
       "      <td>cellranger-6.1.1</td>\n",
       "      <td>GRCh38</td>\n",
       "    </tr>\n",
       "    <tr>\n",
       "      <th>1</th>\n",
       "      <td>211008_10X_KW9393_bcl</td>\n",
       "      <td>BRI-1392</td>\n",
       "      <td>/data/srlab/external-data/10xgenomics/refdata-...</td>\n",
       "      <td>cellranger-6.1.1</td>\n",
       "      <td>GRCh38</td>\n",
       "    </tr>\n",
       "    <tr>\n",
       "      <th>2</th>\n",
       "      <td>211008_10X_KW9393_bcl</td>\n",
       "      <td>BRI-1393</td>\n",
       "      <td>/data/srlab/external-data/10xgenomics/refdata-...</td>\n",
       "      <td>cellranger-6.1.1</td>\n",
       "      <td>GRCh38</td>\n",
       "    </tr>\n",
       "    <tr>\n",
       "      <th>3</th>\n",
       "      <td>211008_10X_KW9393_bcl</td>\n",
       "      <td>BRI-1394</td>\n",
       "      <td>/data/srlab/external-data/10xgenomics/refdata-...</td>\n",
       "      <td>cellranger-6.1.1</td>\n",
       "      <td>GRCh38</td>\n",
       "    </tr>\n",
       "    <tr>\n",
       "      <th>4</th>\n",
       "      <td>211008_10X_KW9393_bcl</td>\n",
       "      <td>BRI-1391-M</td>\n",
       "      <td>/data/srlab/external-data/10xgenomics/refdata-...</td>\n",
       "      <td>cellranger-6.1.1</td>\n",
       "      <td>GRCh38</td>\n",
       "    </tr>\n",
       "    <tr>\n",
       "      <th>5</th>\n",
       "      <td>211008_10X_KW9393_bcl</td>\n",
       "      <td>BRI-1392-M</td>\n",
       "      <td>/data/srlab/external-data/10xgenomics/refdata-...</td>\n",
       "      <td>cellranger-6.1.1</td>\n",
       "      <td>GRCh38</td>\n",
       "    </tr>\n",
       "    <tr>\n",
       "      <th>6</th>\n",
       "      <td>211008_10X_KW9393_bcl</td>\n",
       "      <td>BRI-1393-M</td>\n",
       "      <td>/data/srlab/external-data/10xgenomics/refdata-...</td>\n",
       "      <td>cellranger-6.1.1</td>\n",
       "      <td>GRCh38</td>\n",
       "    </tr>\n",
       "    <tr>\n",
       "      <th>7</th>\n",
       "      <td>211008_10X_KW9393_bcl</td>\n",
       "      <td>BRI-1394-M</td>\n",
       "      <td>/data/srlab/external-data/10xgenomics/refdata-...</td>\n",
       "      <td>cellranger-6.1.1</td>\n",
       "      <td>GRCh38</td>\n",
       "    </tr>\n",
       "    <tr>\n",
       "      <th>8</th>\n",
       "      <td>211008_10X_KW9393_bcl</td>\n",
       "      <td>BRI-1395</td>\n",
       "      <td>/data/srlab/external-data/10xgenomics/refdata-...</td>\n",
       "      <td>cellranger-6.1.1</td>\n",
       "      <td>GRCh38</td>\n",
       "    </tr>\n",
       "    <tr>\n",
       "      <th>9</th>\n",
       "      <td>211008_10X_KW9393_bcl</td>\n",
       "      <td>BRI-1396</td>\n",
       "      <td>/data/srlab/external-data/10xgenomics/refdata-...</td>\n",
       "      <td>cellranger-6.1.1</td>\n",
       "      <td>GRCh38</td>\n",
       "    </tr>\n",
       "    <tr>\n",
       "      <th>10</th>\n",
       "      <td>211008_10X_KW9393_bcl</td>\n",
       "      <td>BRI-1397</td>\n",
       "      <td>/data/srlab/external-data/10xgenomics/refdata-...</td>\n",
       "      <td>cellranger-6.1.1</td>\n",
       "      <td>GRCh38</td>\n",
       "    </tr>\n",
       "    <tr>\n",
       "      <th>11</th>\n",
       "      <td>211008_10X_KW9393_bcl</td>\n",
       "      <td>BRI-1398</td>\n",
       "      <td>/data/srlab/external-data/10xgenomics/refdata-...</td>\n",
       "      <td>cellranger-6.1.1</td>\n",
       "      <td>GRCh38</td>\n",
       "    </tr>\n",
       "    <tr>\n",
       "      <th>12</th>\n",
       "      <td>211008_10X_KW9393_bcl</td>\n",
       "      <td>BRI-1411</td>\n",
       "      <td>/data/srlab/external-data/10xgenomics/refdata-...</td>\n",
       "      <td>cellranger-6.1.1</td>\n",
       "      <td>GRCh38</td>\n",
       "    </tr>\n",
       "  </tbody>\n",
       "</table>\n",
       "</div>"
      ],
      "text/plain": [
       "                        0           1  \\\n",
       "0   211008_10X_KW9393_bcl    BRI-1391   \n",
       "1   211008_10X_KW9393_bcl    BRI-1392   \n",
       "2   211008_10X_KW9393_bcl    BRI-1393   \n",
       "3   211008_10X_KW9393_bcl    BRI-1394   \n",
       "4   211008_10X_KW9393_bcl  BRI-1391-M   \n",
       "5   211008_10X_KW9393_bcl  BRI-1392-M   \n",
       "6   211008_10X_KW9393_bcl  BRI-1393-M   \n",
       "7   211008_10X_KW9393_bcl  BRI-1394-M   \n",
       "8   211008_10X_KW9393_bcl    BRI-1395   \n",
       "9   211008_10X_KW9393_bcl    BRI-1396   \n",
       "10  211008_10X_KW9393_bcl    BRI-1397   \n",
       "11  211008_10X_KW9393_bcl    BRI-1398   \n",
       "12  211008_10X_KW9393_bcl    BRI-1411   \n",
       "\n",
       "                                                    2                 3  \\\n",
       "0   /data/srlab/external-data/10xgenomics/refdata-...  cellranger-6.1.1   \n",
       "1   /data/srlab/external-data/10xgenomics/refdata-...  cellranger-6.1.1   \n",
       "2   /data/srlab/external-data/10xgenomics/refdata-...  cellranger-6.1.1   \n",
       "3   /data/srlab/external-data/10xgenomics/refdata-...  cellranger-6.1.1   \n",
       "4   /data/srlab/external-data/10xgenomics/refdata-...  cellranger-6.1.1   \n",
       "5   /data/srlab/external-data/10xgenomics/refdata-...  cellranger-6.1.1   \n",
       "6   /data/srlab/external-data/10xgenomics/refdata-...  cellranger-6.1.1   \n",
       "7   /data/srlab/external-data/10xgenomics/refdata-...  cellranger-6.1.1   \n",
       "8   /data/srlab/external-data/10xgenomics/refdata-...  cellranger-6.1.1   \n",
       "9   /data/srlab/external-data/10xgenomics/refdata-...  cellranger-6.1.1   \n",
       "10  /data/srlab/external-data/10xgenomics/refdata-...  cellranger-6.1.1   \n",
       "11  /data/srlab/external-data/10xgenomics/refdata-...  cellranger-6.1.1   \n",
       "12  /data/srlab/external-data/10xgenomics/refdata-...  cellranger-6.1.1   \n",
       "\n",
       "         4  \n",
       "0   GRCh38  \n",
       "1   GRCh38  \n",
       "2   GRCh38  \n",
       "3   GRCh38  \n",
       "4   GRCh38  \n",
       "5   GRCh38  \n",
       "6   GRCh38  \n",
       "7   GRCh38  \n",
       "8   GRCh38  \n",
       "9   GRCh38  \n",
       "10  GRCh38  \n",
       "11  GRCh38  \n",
       "12  GRCh38  "
      ]
     },
     "execution_count": 30,
     "metadata": {},
     "output_type": "execute_result"
    }
   ],
   "source": [
    "df_count = pd.DataFrame(rows_count)\n",
    "df_count"
   ]
  },
  {
   "cell_type": "code",
   "execution_count": 193,
   "metadata": {},
   "outputs": [],
   "source": [
    "df_count.to_csv('/Users/curtism/Documents/2021/singlecellcore/qian_scripts/input/{work_order}/lsf_params_count_{work_order}'.format(\n",
    "    work_order = work_order), \n",
    "                        sep='\\t', \n",
    "                        index = False,\n",
    "                        header = False)"
   ]
  },
  {
   "cell_type": "code",
   "execution_count": null,
   "metadata": {},
   "outputs": [],
   "source": []
  },
  {
   "cell_type": "markdown",
   "metadata": {},
   "source": [
    "## Nucseq"
   ]
  },
  {
   "cell_type": "code",
   "execution_count": 179,
   "metadata": {},
   "outputs": [],
   "source": [
    "nuc_libs_index = df_run_info[(df_run_info['Library Type'] == 'NUC')].index.values.tolist()"
   ]
  },
  {
   "cell_type": "code",
   "execution_count": 180,
   "metadata": {},
   "outputs": [
    {
     "data": {
      "text/plain": [
       "[]"
      ]
     },
     "execution_count": 180,
     "metadata": {},
     "output_type": "execute_result"
    }
   ],
   "source": [
    "nuc_libs_index"
   ]
  },
  {
   "cell_type": "code",
   "execution_count": 48,
   "metadata": {},
   "outputs": [],
   "source": [
    "rows_count = []\n",
    "for i in nuc_libs_index:\n",
    "    genome = ''\n",
    "    gex_species = ''\n",
    "    if lib_species[i] == 'human':\n",
    "        gex_species = gex_species.join('GRCh38')\n",
    "        genome = genome.join('/data/srlab/external-data/10xgenomics/GRCh38-1.2.0_premrna')\n",
    "        \n",
    "    rows_count.append([raw_folder_name, \n",
    "                               lib_ids[i], \n",
    "                               genome,\n",
    "                               cellranger_version,\n",
    "                               gex_species])\n"
   ]
  },
  {
   "cell_type": "code",
   "execution_count": 51,
   "metadata": {},
   "outputs": [],
   "source": [
    "df_count = pd.DataFrame(rows_count)"
   ]
  },
  {
   "cell_type": "code",
   "execution_count": 50,
   "metadata": {},
   "outputs": [],
   "source": [
    "df_count.to_csv('/Users/qxiao/Desktop/single_cell_core/{work_order}/lsf_params_count_nucseq_{work_order}'.format(\n",
    "    work_order = work_order), \n",
    "                        sep='\\t', \n",
    "                        index = False,\n",
    "                        header = False)"
   ]
  },
  {
   "cell_type": "markdown",
   "metadata": {},
   "source": [
    "## Count feature"
   ]
  },
  {
   "cell_type": "markdown",
   "metadata": {},
   "source": [
    "This part is for generating count feature parameters when running `cellranger count` for ADT/HTO libs"
   ]
  },
  {
   "cell_type": "code",
   "execution_count": 114,
   "metadata": {},
   "outputs": [],
   "source": [
    "#human_ref_path = '/data/srlab/external-data/10xgenomics/refdata-gex-GRCh38-2020-A'\n",
    "#mouse_ref_path = '/data/srlab/external-data/10xgenomics/refdata-gex-mm10-2020-A'\n",
    "#lib_species = df_run_info.Species"
   ]
  },
  {
   "cell_type": "code",
   "execution_count": 40,
   "metadata": {},
   "outputs": [],
   "source": [
    "#pipe_new = 'cellranger-6.0.1'\n",
    "#pipe_old2 = 'cellranger-4.0.0'\n",
    "#pipe_old = 'cellranger-3.1.0'\n",
    "#lib_species = df_run_info.Species"
   ]
  },
  {
   "cell_type": "markdown",
   "metadata": {},
   "source": [
    "### ADT"
   ]
  },
  {
   "cell_type": "code",
   "execution_count": 38,
   "metadata": {},
   "outputs": [
    {
     "data": {
      "text/plain": [
       "[26, 28]"
      ]
     },
     "execution_count": 38,
     "metadata": {},
     "output_type": "execute_result"
    }
   ],
   "source": [
    "adt_libs_index"
   ]
  },
  {
   "cell_type": "code",
   "execution_count": 46,
   "metadata": {},
   "outputs": [],
   "source": [
    "rows_count_feature = []\n",
    "for i in adt_libs_index:\n",
    "    adt_version = lib_version[i]\n",
    "    adt_species = ''\n",
    "    prepend= 'gex'\n",
    "    if lib_species[i] == 'human':\n",
    "        adt_species = adt_species.join('GRCh38')\n",
    "        if lib_version[i]=='3.0.0':\n",
    "            prepend = 'cellranger'\n",
    "    elif lib_species[i] == 'mouse':\n",
    "        adt_species = adt_species.join('mm10')\n",
    "        \n",
    "        \n",
    "    rows_count_feature.append([raw_folder_name, \n",
    "                               lib_ids[ adt_gex_libs_index[adt_libs_index.index(i)] ], \n",
    "                               '/data/srlab/external-data/10xgenomics/refdata-{}-{}-{}'.format(prepend,adt_species,adt_version),\n",
    "                               'features.csv',\n",
    "                               'library_{ADT_sample}_ADT.csv'.format(ADT_sample = lib_ids[i]),\n",
    "                               cellranger_version,\n",
    "                               adt_species])"
   ]
  },
  {
   "cell_type": "code",
   "execution_count": null,
   "metadata": {},
   "outputs": [],
   "source": []
  },
  {
   "cell_type": "code",
   "execution_count": 47,
   "metadata": {},
   "outputs": [],
   "source": [
    "df_count_feature = pd.DataFrame(rows_count_feature)"
   ]
  },
  {
   "cell_type": "code",
   "execution_count": 48,
   "metadata": {},
   "outputs": [
    {
     "data": {
      "text/html": [
       "<div>\n",
       "<style scoped>\n",
       "    .dataframe tbody tr th:only-of-type {\n",
       "        vertical-align: middle;\n",
       "    }\n",
       "\n",
       "    .dataframe tbody tr th {\n",
       "        vertical-align: top;\n",
       "    }\n",
       "\n",
       "    .dataframe thead th {\n",
       "        text-align: right;\n",
       "    }\n",
       "</style>\n",
       "<table border=\"1\" class=\"dataframe\">\n",
       "  <thead>\n",
       "    <tr style=\"text-align: right;\">\n",
       "      <th></th>\n",
       "      <th>0</th>\n",
       "      <th>1</th>\n",
       "      <th>2</th>\n",
       "      <th>3</th>\n",
       "      <th>4</th>\n",
       "      <th>5</th>\n",
       "      <th>6</th>\n",
       "    </tr>\n",
       "  </thead>\n",
       "  <tbody>\n",
       "    <tr>\n",
       "      <th>0</th>\n",
       "      <td>211008_10X_KW9393_bcl</td>\n",
       "      <td>BRI-1412</td>\n",
       "      <td>/data/srlab/external-data/10xgenomics/refdata-...</td>\n",
       "      <td>features.csv</td>\n",
       "      <td>library_BRI-1413_ADT.csv</td>\n",
       "      <td>cellranger-6.1.1</td>\n",
       "      <td>GRCh38</td>\n",
       "    </tr>\n",
       "    <tr>\n",
       "      <th>1</th>\n",
       "      <td>211008_10X_KW9393_bcl</td>\n",
       "      <td>BRI-1414</td>\n",
       "      <td>/data/srlab/external-data/10xgenomics/refdata-...</td>\n",
       "      <td>features.csv</td>\n",
       "      <td>library_BRI-1415_ADT.csv</td>\n",
       "      <td>cellranger-6.1.1</td>\n",
       "      <td>GRCh38</td>\n",
       "    </tr>\n",
       "  </tbody>\n",
       "</table>\n",
       "</div>"
      ],
      "text/plain": [
       "                       0         1  \\\n",
       "0  211008_10X_KW9393_bcl  BRI-1412   \n",
       "1  211008_10X_KW9393_bcl  BRI-1414   \n",
       "\n",
       "                                                   2             3  \\\n",
       "0  /data/srlab/external-data/10xgenomics/refdata-...  features.csv   \n",
       "1  /data/srlab/external-data/10xgenomics/refdata-...  features.csv   \n",
       "\n",
       "                          4                 5       6  \n",
       "0  library_BRI-1413_ADT.csv  cellranger-6.1.1  GRCh38  \n",
       "1  library_BRI-1415_ADT.csv  cellranger-6.1.1  GRCh38  "
      ]
     },
     "execution_count": 48,
     "metadata": {},
     "output_type": "execute_result"
    }
   ],
   "source": [
    "df_count_feature.head()"
   ]
  },
  {
   "cell_type": "code",
   "execution_count": 198,
   "metadata": {},
   "outputs": [],
   "source": [
    "df_count_feature.to_csv('/Users/curtism/Documents/2021/singlecellcore/qian_scripts/input/{work_order}/lsf_params_count_feature_{work_order}_ADT'.format(\n",
    "    work_order = work_order), \n",
    "                        sep='\\t', \n",
    "                        index = False,\n",
    "                        header = False)\n"
   ]
  },
  {
   "cell_type": "markdown",
   "metadata": {},
   "source": [
    "### HTO"
   ]
  },
  {
   "cell_type": "code",
   "execution_count": 49,
   "metadata": {},
   "outputs": [],
   "source": [
    "rows_count_feature = []\n",
    "for i in hto_libs_index:\n",
    "    genome = ''\n",
    "    hto_species = ''\n",
    "    hto_version = lib_version[i]\n",
    "    if lib_species[i] == 'human':\n",
    "        hto_species = hto_species.join('GRCh38')\n",
    "        \n",
    "        prepend='' # gex or cellranger reference\n",
    "        if version=='2020-A':\n",
    "            prepend = prepend.join('gex')\n",
    "        elif version=='3.0.0':\n",
    "            prepend = prepend.join('cellranger')\n",
    "\n",
    "        genome = genome.join('/data/srlab/external-data/10xgenomics/refdata-{}-{}-{}'.format(prepend,hto_species,hto_version))\n",
    "        \n",
    "    elif lib_species[i] == 'mouse':\n",
    "        hto_species = hto_species.join('mm10')\n",
    "        genome = genome.join('/data/srlab/external-data/10xgenomics/refdata-gex-{}-2020-A'.format(hto_species))\n",
    "    \n",
    "    elif lib_species[i] == 'zebrafish':\n",
    "        hto_species = hto_species.join('GRCz10')\n",
    "        genome = genome.join('/data/srlab/external-data/10xgenomics/Danio.rerio_genome')\n",
    "        \n",
    "    rows_count_feature.append([raw_folder_name, \n",
    "                               lib_ids[ hto_gex_libs_index[hto_libs_index.index(i)] ]+'_hashing', \n",
    "                               genome,\n",
    "                               'features_{HTO_sample}.csv'.format(HTO_sample = lib_ids[i]),\n",
    "                               'library_{HTO_sample}_hashing.csv'.format(HTO_sample = lib_ids[i]),\n",
    "                               cellranger_version,\n",
    "                               hto_species])"
   ]
  },
  {
   "cell_type": "code",
   "execution_count": 50,
   "metadata": {
    "scrolled": true
   },
   "outputs": [
    {
     "data": {
      "text/html": [
       "<div>\n",
       "<style scoped>\n",
       "    .dataframe tbody tr th:only-of-type {\n",
       "        vertical-align: middle;\n",
       "    }\n",
       "\n",
       "    .dataframe tbody tr th {\n",
       "        vertical-align: top;\n",
       "    }\n",
       "\n",
       "    .dataframe thead th {\n",
       "        text-align: right;\n",
       "    }\n",
       "</style>\n",
       "<table border=\"1\" class=\"dataframe\">\n",
       "  <thead>\n",
       "    <tr style=\"text-align: right;\">\n",
       "      <th></th>\n",
       "      <th>0</th>\n",
       "      <th>1</th>\n",
       "      <th>2</th>\n",
       "      <th>3</th>\n",
       "      <th>4</th>\n",
       "      <th>5</th>\n",
       "      <th>6</th>\n",
       "    </tr>\n",
       "  </thead>\n",
       "  <tbody>\n",
       "    <tr>\n",
       "      <th>0</th>\n",
       "      <td>211008_10X_KW9393_bcl</td>\n",
       "      <td>BRI-1399_hashing</td>\n",
       "      <td>/data/srlab/external-data/10xgenomics/refdata-...</td>\n",
       "      <td>features_BRI-1400.csv</td>\n",
       "      <td>library_BRI-1400_hashing.csv</td>\n",
       "      <td>cellranger-6.1.1</td>\n",
       "      <td>GRCh38</td>\n",
       "    </tr>\n",
       "    <tr>\n",
       "      <th>1</th>\n",
       "      <td>211008_10X_KW9393_bcl</td>\n",
       "      <td>BRI-1401_hashing</td>\n",
       "      <td>/data/srlab/external-data/10xgenomics/refdata-...</td>\n",
       "      <td>features_BRI-1402.csv</td>\n",
       "      <td>library_BRI-1402_hashing.csv</td>\n",
       "      <td>cellranger-6.1.1</td>\n",
       "      <td>GRCh38</td>\n",
       "    </tr>\n",
       "    <tr>\n",
       "      <th>2</th>\n",
       "      <td>211008_10X_KW9393_bcl</td>\n",
       "      <td>BRI-1403_hashing</td>\n",
       "      <td>/data/srlab/external-data/10xgenomics/refdata-...</td>\n",
       "      <td>features_BRI-1404.csv</td>\n",
       "      <td>library_BRI-1404_hashing.csv</td>\n",
       "      <td>cellranger-6.1.1</td>\n",
       "      <td>GRCh38</td>\n",
       "    </tr>\n",
       "    <tr>\n",
       "      <th>3</th>\n",
       "      <td>211008_10X_KW9393_bcl</td>\n",
       "      <td>BRI-1405_hashing</td>\n",
       "      <td>/data/srlab/external-data/10xgenomics/refdata-...</td>\n",
       "      <td>features_BRI-1406.csv</td>\n",
       "      <td>library_BRI-1406_hashing.csv</td>\n",
       "      <td>cellranger-6.1.1</td>\n",
       "      <td>GRCh38</td>\n",
       "    </tr>\n",
       "    <tr>\n",
       "      <th>4</th>\n",
       "      <td>211008_10X_KW9393_bcl</td>\n",
       "      <td>BRI-1407_hashing</td>\n",
       "      <td>/data/srlab/external-data/10xgenomics/refdata-...</td>\n",
       "      <td>features_BRI-1408.csv</td>\n",
       "      <td>library_BRI-1408_hashing.csv</td>\n",
       "      <td>cellranger-6.1.1</td>\n",
       "      <td>GRCh38</td>\n",
       "    </tr>\n",
       "  </tbody>\n",
       "</table>\n",
       "</div>"
      ],
      "text/plain": [
       "                       0                 1  \\\n",
       "0  211008_10X_KW9393_bcl  BRI-1399_hashing   \n",
       "1  211008_10X_KW9393_bcl  BRI-1401_hashing   \n",
       "2  211008_10X_KW9393_bcl  BRI-1403_hashing   \n",
       "3  211008_10X_KW9393_bcl  BRI-1405_hashing   \n",
       "4  211008_10X_KW9393_bcl  BRI-1407_hashing   \n",
       "\n",
       "                                                   2                      3  \\\n",
       "0  /data/srlab/external-data/10xgenomics/refdata-...  features_BRI-1400.csv   \n",
       "1  /data/srlab/external-data/10xgenomics/refdata-...  features_BRI-1402.csv   \n",
       "2  /data/srlab/external-data/10xgenomics/refdata-...  features_BRI-1404.csv   \n",
       "3  /data/srlab/external-data/10xgenomics/refdata-...  features_BRI-1406.csv   \n",
       "4  /data/srlab/external-data/10xgenomics/refdata-...  features_BRI-1408.csv   \n",
       "\n",
       "                              4                 5       6  \n",
       "0  library_BRI-1400_hashing.csv  cellranger-6.1.1  GRCh38  \n",
       "1  library_BRI-1402_hashing.csv  cellranger-6.1.1  GRCh38  \n",
       "2  library_BRI-1404_hashing.csv  cellranger-6.1.1  GRCh38  \n",
       "3  library_BRI-1406_hashing.csv  cellranger-6.1.1  GRCh38  \n",
       "4  library_BRI-1408_hashing.csv  cellranger-6.1.1  GRCh38  "
      ]
     },
     "execution_count": 50,
     "metadata": {},
     "output_type": "execute_result"
    }
   ],
   "source": [
    "df_count_feature = pd.DataFrame(rows_count_feature)\n",
    "df_count_feature.head()"
   ]
  },
  {
   "cell_type": "code",
   "execution_count": 201,
   "metadata": {},
   "outputs": [],
   "source": [
    "df_count_feature.to_csv('/Users/curtism/Documents/2021/singlecellcore/qian_scripts/input/{work_order}/lsf_params_count_feature_{work_order}_HTO'.format(\n",
    "    work_order = work_order), \n",
    "                        sep='\\t', \n",
    "                        index = False,\n",
    "                        header = False)"
   ]
  },
  {
   "cell_type": "markdown",
   "metadata": {},
   "source": [
    "## TCR/BCR"
   ]
  },
  {
   "cell_type": "code",
   "execution_count": 38,
   "metadata": {},
   "outputs": [],
   "source": [
    "vdj_libs_index = df_run_info.index[(df_run_info['Library Type'] == 'TCR')| (df_run_info['Library Type'] == 'BCR')| (df_run_info['Library Type'] == 'TCR/BCR')| (df_run_info['Library Type'] == 'BCR/TCR') ].values.tolist()\n",
    "\n"
   ]
  },
  {
   "cell_type": "code",
   "execution_count": 18,
   "metadata": {},
   "outputs": [
    {
     "data": {
      "text/plain": [
       "[29]"
      ]
     },
     "execution_count": 18,
     "metadata": {},
     "output_type": "execute_result"
    }
   ],
   "source": [
    "vdj_libs_index"
   ]
  },
  {
   "cell_type": "code",
   "execution_count": 204,
   "metadata": {},
   "outputs": [],
   "source": [
    "rows_vdj = []\n",
    "for i in vdj_libs_index:\n",
    "    \n",
    "    genome = ''\n",
    "    vdj_species = ''\n",
    "    vdj_species2 = ''\n",
    "    \n",
    "    if lib_species[i] == 'human':\n",
    "        vdj_species = vdj_species.join('GRCh38')\n",
    "        vdj_species2 = vdj_species2.join('GRCh38')\n",
    "        genome = genome.join('/data/srlab/external-data/10xgenomics/refdata-cellranger-vdj-{}-alts-ensembl-5.0.0'.format(vdj_species))\n",
    "        \n",
    "    elif lib_species[i] == 'mouse':\n",
    "        vdj_species = vdj_species.join('GRCm38')\n",
    "        vdj_species2 = vdj_species2.join('mm10')\n",
    "        genome = genome.join('/data/srlab/external-data/10xgenomics/refdata-cellranger-vdj-{}-alts-ensembl-5.0.0'.format(vdj_species))\n",
    " \n",
    "    rows_vdj.append([raw_folder_name, \n",
    "                     lib_ids[i], \n",
    "                     genome,\n",
    "                     cellranger_version,\n",
    "                     vdj_species2])"
   ]
  },
  {
   "cell_type": "code",
   "execution_count": 205,
   "metadata": {},
   "outputs": [
    {
     "data": {
      "text/html": [
       "<div>\n",
       "<style scoped>\n",
       "    .dataframe tbody tr th:only-of-type {\n",
       "        vertical-align: middle;\n",
       "    }\n",
       "\n",
       "    .dataframe tbody tr th {\n",
       "        vertical-align: top;\n",
       "    }\n",
       "\n",
       "    .dataframe thead th {\n",
       "        text-align: right;\n",
       "    }\n",
       "</style>\n",
       "<table border=\"1\" class=\"dataframe\">\n",
       "  <thead>\n",
       "    <tr style=\"text-align: right;\">\n",
       "      <th></th>\n",
       "      <th>0</th>\n",
       "      <th>1</th>\n",
       "      <th>2</th>\n",
       "      <th>3</th>\n",
       "      <th>4</th>\n",
       "    </tr>\n",
       "  </thead>\n",
       "  <tbody>\n",
       "    <tr>\n",
       "      <th>0</th>\n",
       "      <td>211008_10X_KW9393_bcl</td>\n",
       "      <td>BRI-1416</td>\n",
       "      <td>/data/srlab/external-data/10xgenomics/refdata-...</td>\n",
       "      <td>cellranger-6.1.1</td>\n",
       "      <td>GRCh38</td>\n",
       "    </tr>\n",
       "  </tbody>\n",
       "</table>\n",
       "</div>"
      ],
      "text/plain": [
       "                       0         1  \\\n",
       "0  211008_10X_KW9393_bcl  BRI-1416   \n",
       "\n",
       "                                                   2                 3       4  \n",
       "0  /data/srlab/external-data/10xgenomics/refdata-...  cellranger-6.1.1  GRCh38  "
      ]
     },
     "execution_count": 205,
     "metadata": {},
     "output_type": "execute_result"
    }
   ],
   "source": [
    "df_vdj = pd.DataFrame(rows_vdj)\n",
    "df_vdj.head()"
   ]
  },
  {
   "cell_type": "code",
   "execution_count": 206,
   "metadata": {},
   "outputs": [],
   "source": [
    "df_vdj.to_csv('/Users/curtism/Documents/2021/singlecellcore/qian_scripts/input/{work_order}/lsf_params_vdj_{work_order}'.format(\n",
    "    work_order = work_order), \n",
    "                        sep='\\t', \n",
    "                        index = False,\n",
    "                        header = False)\n"
   ]
  },
  {
   "cell_type": "markdown",
   "metadata": {},
   "source": [
    "## Visium"
   ]
  },
  {
   "cell_type": "code",
   "execution_count": 76,
   "metadata": {},
   "outputs": [],
   "source": [
    "visium_libs_index = df_run_info.index[df_run_info['Library Type'] == 'Visium'].values.tolist()"
   ]
  },
  {
   "cell_type": "code",
   "execution_count": 77,
   "metadata": {},
   "outputs": [
    {
     "data": {
      "text/plain": [
       "[31, 32, 33, 34]"
      ]
     },
     "execution_count": 77,
     "metadata": {},
     "output_type": "execute_result"
    }
   ],
   "source": [
    "visium_libs_index"
   ]
  },
  {
   "cell_type": "code",
   "execution_count": 78,
   "metadata": {},
   "outputs": [],
   "source": [
    "lib_species = df_run_info.Species.tolist()\n",
    "lib_slide = df_run_info.slide.tolist()\n",
    "lib_area = df_run_info.area.tolist()\n",
    "\n",
    "space_ranger = 'spaceranger-1.2.1'\n",
    "space_pipe_ver = space_ranger"
   ]
  },
  {
   "cell_type": "code",
   "execution_count": 132,
   "metadata": {},
   "outputs": [],
   "source": [
    "lib_species_full = []\n",
    "for i in range(len(lib_species)):\n",
    "    if lib_species[i] ==  'human':\n",
    "        lib_species_full.append('GRCh38')\n",
    "        \n",
    "    elif lib_species[i] ==  'mouse':\n",
    "        lib_species_full.append('mm10')\n",
    "        \n",
    "    elif lib_species[i] ==  'zebrafish':\n",
    "        lib_species_full.append('GRCz10')\n",
    "        \n",
    "        "
   ]
  },
  {
   "cell_type": "markdown",
   "metadata": {},
   "source": [
    "Without alignment:"
   ]
  },
  {
   "cell_type": "code",
   "execution_count": 133,
   "metadata": {},
   "outputs": [],
   "source": [
    "\n",
    "rows_visium = []\n",
    "for i in visium_libs_index:\n",
    "    \n",
    "    genome = ''\n",
    "    visium_species = ''\n",
    "    \n",
    "    if lib_species[i] == 'human':\n",
    "        visium_species = visium_species.join('GRCh38')\n",
    "        genome = genome.join('/data/srlab/external-data/10xgenomics/refdata-gex-{}-2020-A'.format(visium_species))\n",
    "        \n",
    "    elif lib_species[i] == 'mouse':\n",
    "        visium_species = visium_species.join('mm10')\n",
    "        genome = genome.join('/data/srlab/external-data/10xgenomics/refdata-gex-{}-2020-A'.format(visium_species))\n",
    "        \n",
    "        \n",
    "    rows_visium.append([raw_folder_name, \n",
    "                     lib_ids[i], \n",
    "                     '/data/srlab/external-data/10xgenomics/refdata-gex-{}-2020-A'.format(lib_species_full[i]),\n",
    "                     space_pipe_ver,\n",
    "                     visium_species,\n",
    "                     '/data/srlab/bwh10x/{raw_folder}/images/{area}.tif'.format(\n",
    "                          raw_folder = raw_folder_name,\n",
    "                          area = lib_area[i]),\n",
    "                      lib_slide[i],\n",
    "                      lib_area[i]])"
   ]
  },
  {
   "cell_type": "markdown",
   "metadata": {},
   "source": [
    "With aligntment:"
   ]
  },
  {
   "cell_type": "code",
   "execution_count": 80,
   "metadata": {},
   "outputs": [],
   "source": [
    "rows_visium = []\n",
    "for i in visium_libs_index:\n",
    "    \n",
    "    genome = ''\n",
    "    visium_species = ''\n",
    "    \n",
    "    if lib_species[i] == 'human':\n",
    "        visium_species = visium_species.join('GRCh38')\n",
    "        genome = genome.join('/data/srlab/external-data/10xgenomics/refdata-gex-{}-2020-A'.format(visium_species))\n",
    "        \n",
    "    elif lib_species[i] == 'mouse':\n",
    "        visium_species = visium_species.join('mm10')\n",
    "        genome = genome.join('/data/srlab/external-data/10xgenomics/refdata-gex-{}-2020-A'.format(visium_species))\n",
    "        \n",
    "        \n",
    "    rows_visium.append([raw_folder_name, \n",
    "                     lib_ids[i], \n",
    "                     '/data/srlab/external-data/10xgenomics/refdata-gex-{}-2020-A'.format(visium_species),\n",
    "                     space_pipe_ver,\n",
    "                     visium_species,\n",
    "                     '/data/srlab/bwh10x/{raw_folder}/images/{area}.tif'.format(\n",
    "                          raw_folder = raw_folder_name,\n",
    "                          area = lib_area[i]),\n",
    "                      lib_slide[i],\n",
    "                      lib_area[i],\n",
    "                      '/data/srlab/bwh10x/{raw_folder}/alignment/{slide}-{area}.json'.format(\n",
    "                          raw_folder = raw_folder_name,\n",
    "                          slide = lib_slide[i],\n",
    "                          area = lib_area[i]) ])"
   ]
  },
  {
   "cell_type": "code",
   "execution_count": 81,
   "metadata": {},
   "outputs": [
    {
     "data": {
      "text/html": [
       "<div>\n",
       "<style scoped>\n",
       "    .dataframe tbody tr th:only-of-type {\n",
       "        vertical-align: middle;\n",
       "    }\n",
       "\n",
       "    .dataframe tbody tr th {\n",
       "        vertical-align: top;\n",
       "    }\n",
       "\n",
       "    .dataframe thead th {\n",
       "        text-align: right;\n",
       "    }\n",
       "</style>\n",
       "<table border=\"1\" class=\"dataframe\">\n",
       "  <thead>\n",
       "    <tr style=\"text-align: right;\">\n",
       "      <th></th>\n",
       "      <th>0</th>\n",
       "      <th>1</th>\n",
       "      <th>2</th>\n",
       "      <th>3</th>\n",
       "      <th>4</th>\n",
       "      <th>5</th>\n",
       "      <th>6</th>\n",
       "      <th>7</th>\n",
       "      <th>8</th>\n",
       "    </tr>\n",
       "  </thead>\n",
       "  <tbody>\n",
       "    <tr>\n",
       "      <th>0</th>\n",
       "      <td>210624_A00873_0376_BHC3KTDSX2_KW9079</td>\n",
       "      <td>BRI-1267</td>\n",
       "      <td>/data/srlab/external-data/10xgenomics/refdata-...</td>\n",
       "      <td>spaceranger-1.2.1</td>\n",
       "      <td>GRCh38</td>\n",
       "      <td>/data/srlab/bwh10x/210624_A00873_0376_BHC3KTDS...</td>\n",
       "      <td>V10M02-035</td>\n",
       "      <td>A1</td>\n",
       "      <td>/data/srlab/bwh10x/210624_A00873_0376_BHC3KTDS...</td>\n",
       "    </tr>\n",
       "    <tr>\n",
       "      <th>1</th>\n",
       "      <td>210624_A00873_0376_BHC3KTDSX2_KW9079</td>\n",
       "      <td>BRI-1268</td>\n",
       "      <td>/data/srlab/external-data/10xgenomics/refdata-...</td>\n",
       "      <td>spaceranger-1.2.1</td>\n",
       "      <td>GRCh38</td>\n",
       "      <td>/data/srlab/bwh10x/210624_A00873_0376_BHC3KTDS...</td>\n",
       "      <td>V10M02-035</td>\n",
       "      <td>B1</td>\n",
       "      <td>/data/srlab/bwh10x/210624_A00873_0376_BHC3KTDS...</td>\n",
       "    </tr>\n",
       "    <tr>\n",
       "      <th>2</th>\n",
       "      <td>210624_A00873_0376_BHC3KTDSX2_KW9079</td>\n",
       "      <td>BRI-1269</td>\n",
       "      <td>/data/srlab/external-data/10xgenomics/refdata-...</td>\n",
       "      <td>spaceranger-1.2.1</td>\n",
       "      <td>GRCh38</td>\n",
       "      <td>/data/srlab/bwh10x/210624_A00873_0376_BHC3KTDS...</td>\n",
       "      <td>V10M02-035</td>\n",
       "      <td>C1</td>\n",
       "      <td>/data/srlab/bwh10x/210624_A00873_0376_BHC3KTDS...</td>\n",
       "    </tr>\n",
       "    <tr>\n",
       "      <th>3</th>\n",
       "      <td>210624_A00873_0376_BHC3KTDSX2_KW9079</td>\n",
       "      <td>BRI-1270</td>\n",
       "      <td>/data/srlab/external-data/10xgenomics/refdata-...</td>\n",
       "      <td>spaceranger-1.2.1</td>\n",
       "      <td>GRCh38</td>\n",
       "      <td>/data/srlab/bwh10x/210624_A00873_0376_BHC3KTDS...</td>\n",
       "      <td>V10M02-035</td>\n",
       "      <td>D1</td>\n",
       "      <td>/data/srlab/bwh10x/210624_A00873_0376_BHC3KTDS...</td>\n",
       "    </tr>\n",
       "  </tbody>\n",
       "</table>\n",
       "</div>"
      ],
      "text/plain": [
       "                                      0         1  \\\n",
       "0  210624_A00873_0376_BHC3KTDSX2_KW9079  BRI-1267   \n",
       "1  210624_A00873_0376_BHC3KTDSX2_KW9079  BRI-1268   \n",
       "2  210624_A00873_0376_BHC3KTDSX2_KW9079  BRI-1269   \n",
       "3  210624_A00873_0376_BHC3KTDSX2_KW9079  BRI-1270   \n",
       "\n",
       "                                                   2                  3  \\\n",
       "0  /data/srlab/external-data/10xgenomics/refdata-...  spaceranger-1.2.1   \n",
       "1  /data/srlab/external-data/10xgenomics/refdata-...  spaceranger-1.2.1   \n",
       "2  /data/srlab/external-data/10xgenomics/refdata-...  spaceranger-1.2.1   \n",
       "3  /data/srlab/external-data/10xgenomics/refdata-...  spaceranger-1.2.1   \n",
       "\n",
       "        4                                                  5           6   7  \\\n",
       "0  GRCh38  /data/srlab/bwh10x/210624_A00873_0376_BHC3KTDS...  V10M02-035  A1   \n",
       "1  GRCh38  /data/srlab/bwh10x/210624_A00873_0376_BHC3KTDS...  V10M02-035  B1   \n",
       "2  GRCh38  /data/srlab/bwh10x/210624_A00873_0376_BHC3KTDS...  V10M02-035  C1   \n",
       "3  GRCh38  /data/srlab/bwh10x/210624_A00873_0376_BHC3KTDS...  V10M02-035  D1   \n",
       "\n",
       "                                                   8  \n",
       "0  /data/srlab/bwh10x/210624_A00873_0376_BHC3KTDS...  \n",
       "1  /data/srlab/bwh10x/210624_A00873_0376_BHC3KTDS...  \n",
       "2  /data/srlab/bwh10x/210624_A00873_0376_BHC3KTDS...  \n",
       "3  /data/srlab/bwh10x/210624_A00873_0376_BHC3KTDS...  "
      ]
     },
     "execution_count": 81,
     "metadata": {},
     "output_type": "execute_result"
    }
   ],
   "source": [
    "df_visium = pd.DataFrame(rows_visium)\n",
    "df_visium.head()"
   ]
  },
  {
   "cell_type": "code",
   "execution_count": 82,
   "metadata": {},
   "outputs": [],
   "source": [
    "df_visium.to_csv('/Users/qxiao/Desktop/single_cell_core/{work_order}/lsf_params_space_{work_order}'.format(\n",
    "    work_order = work_order), \n",
    "                        sep='\\t', \n",
    "                        index = False,\n",
    "                        header = False)\n"
   ]
  },
  {
   "cell_type": "markdown",
   "metadata": {},
   "source": [
    "# Transfer to Broad"
   ]
  },
  {
   "cell_type": "code",
   "execution_count": 41,
   "metadata": {},
   "outputs": [],
   "source": [
    "users = df_run_info.User[df_run_info.User.notna()].tolist()"
   ]
  },
  {
   "cell_type": "code",
   "execution_count": 42,
   "metadata": {},
   "outputs": [
    {
     "data": {
      "text/plain": [
       "{'callan@rics.bwh.harvard.edu',\n",
       " 'dfdwyer@bwh.harvard.edu',\n",
       " 'hfaust@bwh.harvard.edu',\n",
       " 'tsasaki2@bwh.harvard.edu',\n",
       " 'veronica_rendo@dfci.harvard.edu',\n",
       " 'ymebratu@bwh.harvard.edu'}"
      ]
     },
     "execution_count": 42,
     "metadata": {},
     "output_type": "execute_result"
    }
   ],
   "source": [
    "set(users)"
   ]
  },
  {
   "cell_type": "code",
   "execution_count": 71,
   "metadata": {},
   "outputs": [],
   "source": [
    "# Get index for all shared ADT/HTO libraries\n",
    "adt_hto_libs_index=list(set(adt_libs_index).intersection(hto_libs_index))\n",
    "adt_hto_gex_libs_index = df_run_info.index[(df_run_info['Library Type'] == 'GEX') & (df_run_info['HTO'] == 1) & \n",
    "                                           (df_run_info['ADT'] == 1)].values.tolist()\n",
    "\n",
    "adt_only_libs_index=list(set(adt_libs_index).difference(hto_libs_index))\n",
    "\n",
    "hto_only_libs_index=list(set(hto_libs_index).difference(adt_libs_index))"
   ]
  },
  {
   "cell_type": "code",
   "execution_count": null,
   "metadata": {},
   "outputs": [],
   "source": []
  },
  {
   "cell_type": "code",
   "execution_count": 142,
   "metadata": {},
   "outputs": [],
   "source": [
    "#HTO and ADT both present for some GEX\n",
    "#Some GEX have HTO/ADT combined\n",
    "\n",
    "for u in set(users):\n",
    "    #user_short = u.split(' ')[0]#Only taking the first element of the user name, the name elements should be separated by space\n",
    "    user_short = u.split('@')[0]#Only taking the first element of the user name, the name elements should be separated by @\n",
    "    \n",
    "    open('{local_path}/send_files_{work_order}_{user}.txt'.format(local_path = local_path, \n",
    "                                                                  work_order = work_order,\n",
    "                                                                  user = user_short), 'w')\n",
    "\n",
    "    for g in gex_only_lib_index:\n",
    "        if df_run_info.User[g] == u:\n",
    "            species = ''\n",
    "            if lib_species[g] == 'human':\n",
    "                species = species.join('GRCh38')\n",
    "            elif lib_species[g] == 'mouse':\n",
    "                species = species.join('mm10')\n",
    "            elif lib_species[g] == 'zebrafish':\n",
    "                species = species.join('GRCz10')\n",
    "            open('{local_path}/send_files_{work_order}_{user}.txt'.format(local_path = local_path, \n",
    "                                                                  work_order = work_order,\n",
    "                                                                  user = user_short), 'a+').write(\n",
    "             \n",
    "             '{raw_folder}/{cellranger_version}/{species}/{sample_name}/outs/\\n'.format(raw_folder = raw_folder_name,\n",
    "                                                                               cellranger_version = cellranger_version,\n",
    "                                                                               species = species,\n",
    "                                                                               sample_name = lib_ids[g])\n",
    "             )  \n",
    "            \n",
    "    for a in adt_only_libs_index:\n",
    "        if df_run_info.User[a] == u:\n",
    "            species = ''\n",
    "            if lib_species[a] == 'human':\n",
    "                species = species.join('GRCh38')\n",
    "            elif lib_species[a] == 'mouse':\n",
    "                species = species.join('mm10')\n",
    "            open('{local_path}/send_files_{work_order}_{user}.txt'.format(local_path = local_path, \n",
    "                                                                  work_order = work_order,\n",
    "                                                                  user = user_short), 'a+').write(\n",
    "             \n",
    "             '{raw_folder}/{cellranger_version}/{species}/{sample_name}_ADT/outs/\\n'.format(raw_folder = raw_folder_name,\n",
    "                                                                               cellranger_version = cellranger_version,\n",
    "                                                                               species = species,\n",
    "                                                                               sample_name = lib_ids[ adt_gex_libs_index[adt_libs_index.index(a)] ])\n",
    "             )\n",
    "             \n",
    "    for h in hto_only_libs_index:\n",
    "         if df_run_info.User[h] == u:\n",
    "            species = ''\n",
    "            if lib_species[h] == 'human':\n",
    "                species = species.join('GRCh38')\n",
    "            elif lib_species[h] == 'mouse':\n",
    "                species = species.join('mm10')\n",
    "            open('{local_path}/send_files_{work_order}_{user}.txt'.format(local_path = local_path, \n",
    "                                                                  work_order = work_order,\n",
    "                                                                  user = user_short), 'a+').write(\n",
    "             \n",
    "             '{raw_folder}/{cellranger_version}/{species}/{sample_name}_hashing/outs/\\n'.format(raw_folder = raw_folder_name,\n",
    "                                                                               cellranger_version = cellranger_version,\n",
    "                                                                               species = species,\n",
    "                                                                               sample_name = lib_ids[ hto_gex_libs_index[hto_libs_index.index(h)] ])\n",
    "             )  \n",
    "\n",
    "    for ah in adt_hto_libs_index:\n",
    "         if df_run_info.User[ah] == u:\n",
    "            species = ''\n",
    "            if lib_species[ah] == 'human':\n",
    "                species = species.join('GRCh38')\n",
    "            elif lib_species[ah] == 'mouse':\n",
    "                species = species.join('mm10')\n",
    "            open('{local_path}/send_files_{work_order}_{user}.txt'.format(local_path = local_path, \n",
    "                                                                  work_order = work_order,\n",
    "                                                                  user = user_short), 'a+').write(\n",
    "             \n",
    "             '{raw_folder}/{cellranger_version}/{species}/{sample_name}/outs/\\n'.format(raw_folder = raw_folder_name,\n",
    "                                                                               cellranger_version = cellranger_version,\n",
    "                                                                               species = species, \n",
    "                                                                               sample_name = lib_ids[adt_hto_gex_libs_index[adt_hto_libs_index.index(ah)] ])\n",
    "             )  \n",
    "\n",
    "    for v in vdj_libs_index:\n",
    "        if df_run_info.User[v] == u:\n",
    "            species = ''\n",
    "            if lib_species[v] == 'human':\n",
    "                species = species.join('GRCh38')\n",
    "            elif lib_species[v] == 'mouse':\n",
    "                species = species.join('mm10')\n",
    "            elif lib_species[v] == 'zebrafish':\n",
    "                species = species.join('GRCz10')\n",
    "                \n",
    "            open('{local_path}/send_files_{work_order}_{user}.txt'.format(local_path = local_path, \n",
    "                                                                  work_order = work_order,\n",
    "                                                                  user = user_short), 'a+').write(\n",
    "             \n",
    "             '{raw_folder}/{cellranger_version}/{species}/{sample_name}/outs/\\n'.format(raw_folder = raw_folder_name,\n",
    "                                                                               cellranger_version = cellranger_version,\n",
    "                                                                               species = species,\n",
    "                                                                               sample_name = lib_ids[v])\n",
    "             )  \n",
    "            \n",
    "#     for vi in visium_libs_index:\n",
    "#         if df_run_info.User[vi] == u:\n",
    "#             species = ''\n",
    "#             if lib_species[vi] == 'human':\n",
    "#                 species = species.join('GRCh38')\n",
    "#             elif lib_species[vi] == 'mouse':\n",
    "#                 species = species.join('mm10')\n",
    "#             elif lib_species[vi] == 'zebrafish':\n",
    "#                 species = species.join('GRCz10')\n",
    "                \n",
    "#             open('{local_path}/send_files_{work_order}_{user}.txt'.format(local_path = local_path, \n",
    "#                                                                   work_order = work_order,\n",
    "#                                                                   user = user_short), 'a+').write(\n",
    "             \n",
    "#              '{raw_folder}/{cellranger_version}/{species}/{sample_name}/\\n'.format(raw_folder = raw_folder_name,\n",
    "#                                                                                cellranger_version = cellranger_version,\n",
    "#                                                                                species = species,\n",
    "#                                                                                sample_name = lib_ids[vi])\n",
    "#              )\n",
    "            \n",
    "#     for n in nuc_libs_index:\n",
    "#         if df_run_info.User[n] == u:\n",
    "#             species = ''\n",
    "#             if lib_species[n] == 'human':\n",
    "#                 species = species.join('GRCh38')\n",
    "#             elif lib_species[n] == 'mouse':\n",
    "#                 species = species.join('mm10')\n",
    "#             elif lib_species[n] == 'zebrafish':\n",
    "#                 species = species.join('GRCz10')\n",
    "                \n",
    "#             open('{local_path}/send_files_{work_order}_{user}.txt'.format(local_path = local_path, \n",
    "#                                                                   work_order = work_order,\n",
    "#                                                                   user = user_short), 'a+').write(\n",
    "             \n",
    "#              '{raw_folder}/{cellranger_version}/{species}/{sample_name}/\\n'.format(raw_folder = raw_folder_name,\n",
    "#                                                                                cellranger_version = cellranger_version,\n",
    "#                                                                                species = species,\n",
    "#                                                                                sample_name = lib_ids[n])\n",
    "#              )\n",
    "            \n",
    "    \n",
    "#     for c in cmo_libs_index:\n",
    "#         if df_run_info.User[c] == u:\n",
    "#             species = ''\n",
    "#             if lib_species[c] == 'human':\n",
    "#                 species = species.join('GRCh38')\n",
    "#             elif lib_species[c] == 'mouse':\n",
    "#                 species = species.join('mm10')\n",
    "#             elif lib_species[c] == 'zebrafish':\n",
    "#                 species = species.join('GRCz10')\n",
    "                \n",
    "#             open('{local_path}/send_files_{work_order}_{user}.txt'.format(local_path = local_path, \n",
    "#                                                                   work_order = work_order,\n",
    "#                                                                   user = user_short), 'a+').write(\n",
    "             \n",
    "#              '{raw_folder}/{cellranger_version}/{species}/{sample_name}_CMO/\\n'.format(raw_folder = raw_folder_name,\n",
    "#                                                                                cellranger_version = cellranger_version,\n",
    "#                                                                                species = species,\n",
    "#                                                                                sample_name = lib_ids[cmo_gex_libs_index[cmo_libs_index.index(c)]])\n",
    "#              )\n",
    "\n",
    "             \n",
    " \n",
    "    \n",
    "    "
   ]
  },
  {
   "cell_type": "markdown",
   "metadata": {},
   "source": [
    "Additionally, send FASTQs for those users who request it."
   ]
  },
  {
   "cell_type": "code",
   "execution_count": 148,
   "metadata": {
    "tags": []
   },
   "outputs": [
    {
     "data": {
      "text/plain": [
       "{'dfdwyer@bwh.harvard.edu',\n",
       " 'hfaust@bwh.harvard.edu',\n",
       " 'tsasaki2@bwh.harvard.edu'}"
      ]
     },
     "execution_count": 148,
     "metadata": {},
     "output_type": "execute_result"
    }
   ],
   "source": [
    "fastq_users=df_run_info.loc[df_run_info[\"FASTQ request\"]==\"Y\"].User.tolist()\n",
    "\n",
    "set(fastq_users)"
   ]
  },
  {
   "cell_type": "code",
   "execution_count": 143,
   "metadata": {},
   "outputs": [],
   "source": [
    "#HTO and ADT both present for some GEX\n",
    "#Some GEX have HTO/ADT combined\n",
    "\n",
    "for u in set(fastq_users):\n",
    "    #user_short = u.split(' ')[0]#Only taking the first element of the user name, the name elements should be separated by space\n",
    "    user_short = u.split('@')[0]#Only taking the first element of the user name, the name elements should be separated by @\n",
    "    \n",
    "    for g in gex_only_lib_index:\n",
    "        if df_run_info.User[g] == u:\n",
    "            open('{local_path}/send_files_{work_order}_{user}.txt'.format(local_path = local_path, \n",
    "                                                                  work_order = work_order,\n",
    "                                                                  user = user_short), 'a+').write(\n",
    "             \n",
    "             '{raw_folder}/FASTQS/outs/fastq_path/{flow_cell}/{sample_name}/\\n'.format(raw_folder = raw_folder_name,\n",
    "                                                                               flow_cell = flow_cell_id,\n",
    "                                                                               sample_name = lib_ids[g])\n",
    "             )  \n",
    "            \n",
    "    for a in adt_only_libs_index:\n",
    "        if df_run_info.User[a] == u:\n",
    "            open('{local_path}/send_files_{work_order}_{user}.txt'.format(local_path = local_path, \n",
    "                                                                  work_order = work_order,\n",
    "                                                                  user = user_short), 'a+').write(\n",
    "             \n",
    "             '{raw_folder}/FASTQS/outs/fastq_path/{flow_cell}/{sample_name}/\\n'.format(raw_folder = raw_folder_name,\n",
    "                                                                               flow_cell = flow_cell_id,\n",
    "                                                                               sample_name = lib_ids[ adt_gex_libs_index[adt_libs_index.index(a)] ])\n",
    "             )\n",
    "             \n",
    "    for h in hto_only_libs_index:\n",
    "         if df_run_info.User[h] == u:\n",
    "            open('{local_path}/send_files_{work_order}_{user}.txt'.format(local_path = local_path, \n",
    "                                                                  work_order = work_order,\n",
    "                                                                  user = user_short), 'a+').write(\n",
    "             \n",
    "             '{raw_folder}/FASTQS/outs/fastq_path/{flow_cell}/{sample_name}/\\n'.format(raw_folder = raw_folder_name,\n",
    "                                                                               flow_cell = flow_cell_id,\n",
    "                                                                               sample_name = lib_ids[ hto_gex_libs_index[hto_libs_index.index(h)] ])\n",
    "             )  \n",
    "\n",
    "    for ah in adt_hto_libs_index:\n",
    "         if df_run_info.User[ah] == u:\n",
    "            open('{local_path}/send_files_{work_order}_{user}.txt'.format(local_path = local_path, \n",
    "                                                                  work_order = work_order,\n",
    "                                                                  user = user_short), 'a+').write(\n",
    "             \n",
    "             '{raw_folder}/FASTQS/outs/fastq_path/{flow_cell}/{sample_name}/\\n'.format(raw_folder = raw_folder_name,\n",
    "                                                                               flow_cell = flow_cell_id,\n",
    "                                                                               sample_name = lib_ids[adt_hto_gex_libs_index[adt_hto_libs_index.index(ah)] ])\n",
    "             )  \n",
    "\n",
    "    for v in vdj_libs_index:\n",
    "        if df_run_info.User[v] == u:\n",
    "                \n",
    "            open('{local_path}/send_files_{work_order}_{user}.txt'.format(local_path = local_path, \n",
    "                                                                  work_order = work_order,\n",
    "                                                                  user = user_short), 'a+').write(\n",
    "             \n",
    "             '{raw_folder}/FASTQS/outs/fastq_path/{flow_cell}/{sample_name}/\\n'.format(raw_folder = raw_folder_name,\n",
    "                                                                               flow_cell = flow_cell_id,\n",
    "                                                                               sample_name = lib_ids[v])\n",
    "             )  \n",
    "            \n",
    "#     for vi in visium_libs_index:\n",
    "#         if df_run_info.User[vi] == u:\n",
    "#             species = ''\n",
    "#             if lib_species[vi] == 'human':\n",
    "#                 species = species.join('GRCh38')\n",
    "#             elif lib_species[vi] == 'mouse':\n",
    "#                 species = species.join('mm10')\n",
    "#             elif lib_species[vi] == 'zebrafish':\n",
    "#                 species = species.join('GRCz10')\n",
    "                \n",
    "#             open('{local_path}/send_files_{work_order}_{user}.txt'.format(local_path = local_path, \n",
    "#                                                                   work_order = work_order,\n",
    "#                                                                   user = user_short), 'a+').write(\n",
    "             \n",
    "#              '{raw_folder}/{cellranger_version}/{species}/{sample_name}/\\n'.format(raw_folder = raw_folder_name,\n",
    "#                                                                                cellranger_version = cellranger_version,\n",
    "#                                                                                species = species,\n",
    "#                                                                                sample_name = lib_ids[vi])\n",
    "#              )\n",
    "            \n",
    "#     for n in nuc_libs_index:\n",
    "#         if df_run_info.User[n] == u:\n",
    "#             species = ''\n",
    "#             if lib_species[n] == 'human':\n",
    "#                 species = species.join('GRCh38')\n",
    "#             elif lib_species[n] == 'mouse':\n",
    "#                 species = species.join('mm10')\n",
    "#             elif lib_species[n] == 'zebrafish':\n",
    "#                 species = species.join('GRCz10')\n",
    "                \n",
    "#             open('{local_path}/send_files_{work_order}_{user}.txt'.format(local_path = local_path, \n",
    "#                                                                   work_order = work_order,\n",
    "#                                                                   user = user_short), 'a+').write(\n",
    "             \n",
    "#              '{raw_folder}/{cellranger_version}/{species}/{sample_name}/\\n'.format(raw_folder = raw_folder_name,\n",
    "#                                                                                cellranger_version = cellranger_version,\n",
    "#                                                                                species = species,\n",
    "#                                                                                sample_name = lib_ids[n])\n",
    "#              )\n",
    "            \n",
    "    \n",
    "#     for c in cmo_libs_index:\n",
    "#         if df_run_info.User[c] == u:\n",
    "#             species = ''\n",
    "#             if lib_species[c] == 'human':\n",
    "#                 species = species.join('GRCh38')\n",
    "#             elif lib_species[c] == 'mouse':\n",
    "#                 species = species.join('mm10')\n",
    "#             elif lib_species[c] == 'zebrafish':\n",
    "#                 species = species.join('GRCz10')\n",
    "                \n",
    "#             open('{local_path}/send_files_{work_order}_{user}.txt'.format(local_path = local_path, \n",
    "#                                                                   work_order = work_order,\n",
    "#                                                                   user = user_short), 'a+').write(\n",
    "             \n",
    "#              '{raw_folder}/{cellranger_version}/{species}/{sample_name}_CMO/\\n'.format(raw_folder = raw_folder_name,\n",
    "#                                                                                cellranger_version = cellranger_version,\n",
    "#                                                                                species = species,\n",
    "#                                                                                sample_name = lib_ids[cmo_gex_libs_index[cmo_libs_index.index(c)]])\n",
    "#              )\n",
    "\n",
    "             \n",
    " \n",
    "    \n",
    "    "
   ]
  },
  {
   "cell_type": "markdown",
   "metadata": {},
   "source": [
    "# Check files are correct\n",
    "There might be scenarios that the script failed to include, so always double check the input files are correct before running it."
   ]
  }
 ],
 "metadata": {
  "kernelspec": {
   "display_name": "Python 3",
   "language": "python",
   "name": "python3"
  },
  "language_info": {
   "codemirror_mode": {
    "name": "ipython",
    "version": 3
   },
   "file_extension": ".py",
   "mimetype": "text/x-python",
   "name": "python",
   "nbconvert_exporter": "python",
   "pygments_lexer": "ipython3",
   "version": "3.8.8"
  }
 },
 "nbformat": 4,
 "nbformat_minor": 4
}
